{
  "nbformat": 4,
  "nbformat_minor": 0,
  "metadata": {
    "colab": {
      "provenance": []
    },
    "kernelspec": {
      "name": "python3",
      "display_name": "Python 3"
    },
    "language_info": {
      "name": "python"
    }
  },
  "cells": [
    {
      "cell_type": "markdown",
      "source": [
        "Q1. What is the name of the feature responsible for generating Regex objects?\n",
        "\n",
        "re.compile() is the feature responsible for generation of Regex objects.\n",
        "\n",
        "-------------------------------------------------------------------------------"
      ],
      "metadata": {
        "id": "t2CFDe23VN7f"
      }
    },
    {
      "cell_type": "markdown",
      "source": [
        "Q2. Why do raw strings often appear in Regex objects?\n",
        "\n",
        "Regular expressions use the backslash character ('\\') to indicate special forms (Metacharacters) or to allow special characters (speical sequences) to be used without invoking their special meaning. This collides with Python’s usage of the same character for the same purpose in string literals. Hence, Raw strings are used (e.g. r\"\\n\") so that backslashes do not have to be escaped.\n",
        "\n",
        "-------------------------------------------------------------------------------"
      ],
      "metadata": {
        "id": "aEqKKrMUVjJv"
      }
    },
    {
      "cell_type": "markdown",
      "source": [
        "Q3. What is the return value of the search() method?\n",
        "\n",
        "The return value of re.search(pattern,string) method is a match object if the pattern is observed in the string else it returns a None\n",
        "\n",
        "-------------------------------------------------------------------------------"
      ],
      "metadata": {
        "id": "U49iIgw1Vu2q"
      }
    },
    {
      "cell_type": "markdown",
      "source": [
        "Q4. From a Match item, how do you get the actual strings that match the pattern?\n",
        "\n",
        "For Matched items group() methods returns actual strings that match the pattern\n",
        "\n",
        "------------------------------------------------------------------------------"
      ],
      "metadata": {
        "id": "KVetmPOhV3GH"
      }
    },
    {
      "cell_type": "markdown",
      "source": [
        "Q5. In the regex which created from the r&#39;(\\d\\d\\d)-(\\d\\d\\d-\\d\\d\\d\\d)&#39;, what does group zero cover?\n",
        "Group 2? Group 1?\n",
        "\n",
        "In the Regex r'(\\d\\d\\d)-(\\d\\d\\d-\\d\\d\\d\\d)' the zero group covers the entire pattern match where as the first group cover (\\d\\d\\d) and the second group cover (\\d\\d\\d-\\d\\d\\d\\d)\n",
        "\n",
        "-------------------------------------------------------------------------------"
      ],
      "metadata": {
        "id": "jlB9F4bXW0uS"
      }
    },
    {
      "cell_type": "markdown",
      "source": [
        "Q6. In standard expression syntax, parentheses and intervals have distinct meanings. How can you tell\n",
        "a regex that you want it to fit real parentheses and periods?\n",
        "\n",
        "The \\. \\( and \\) escape characters in the raw string passed to re.compile() will match actual parenthesis characters.\n",
        "\n",
        "-------------------------------------------------------------------------------"
      ],
      "metadata": {
        "id": "T5dVBF2rXAiR"
      }
    },
    {
      "cell_type": "markdown",
      "source": [
        "Q7. The findall() method returns a string list or a list of string tuples. What causes it to return one of\n",
        "the two options?\n",
        "\n",
        "If the regex pattern has no groups, a list of strings matched is returned. if the regex pattern has groups, a list of tuple of strings is returned.\n",
        "\n",
        "-------------------------------------------------------------------------------"
      ],
      "metadata": {
        "id": "NtL9y1sPXR6M"
      }
    },
    {
      "cell_type": "markdown",
      "source": [
        "Q8. In standard expressions, what does the | character mean?\n",
        "\n",
        "In Standard Expressions | means OR operator.\n",
        "\n",
        "--------------------------------------------------------------------------------"
      ],
      "metadata": {
        "id": "ANZdtm1qXbGP"
      }
    },
    {
      "cell_type": "markdown",
      "source": [
        "Q9. In regular expressions, what does the character stand for?\n",
        "\n",
        "In regular Expressions, ? characters represents zero or one match of the preceeding group.\n",
        "\n",
        "-------------------------------------------------------------------------------"
      ],
      "metadata": {
        "id": "hVLwiNA_Xul6"
      }
    },
    {
      "cell_type": "markdown",
      "source": [
        "Q10.In regular expressions, what is the difference between the + and * characters?\n",
        "\n",
        "In Regular Expressions, * Represents Zero ore more occurances of the preceeding group, whereas + represents one or more occurances of the preceeding group.\n",
        "\n",
        "-------------------------------------------------------------------------------"
      ],
      "metadata": {
        "id": "F-HQaPs7X4qo"
      }
    },
    {
      "cell_type": "markdown",
      "source": [
        "Q11. What is the difference between {4} and {4,5} in regular expression?\n",
        "\n",
        "{4} means that its preceeding group should repeat 4 times. where as {4,5} means that its preceeding group should repeat mininum 4 times and maximum 5 times inclusively\n",
        "\n",
        "-------------------------------------------------------------------------------"
      ],
      "metadata": {
        "id": "3H0v4P_NYG23"
      }
    },
    {
      "cell_type": "markdown",
      "source": [
        "Q12. What do you mean by the \\d, \\w, and \\s shorthand character classes signify in regular\n",
        "expressions?\n",
        "\n",
        "\\d, \\w and \\s are special sequences in regular expresssions in python:\n",
        "\n",
        "\\w – Matches a word character equivalent to [a-zA-Z0-9_]\n",
        "\\d – Matches digit character equivalent to [0-9]\n",
        "\\s – Matches whitespace character (space, tab, newline, etc.)\n",
        "\n",
        "-------------------------------------------------------------------------------"
      ],
      "metadata": {
        "id": "scHaGEtsYQz9"
      }
    },
    {
      "cell_type": "markdown",
      "source": [
        "Q13. What do means by \\D, \\W, and \\S shorthand character classes signify in regular expressions?\n",
        "\n",
        "\\D, \\W and \\S are special sequences in regular expresssions in python:\n",
        "\n",
        "\\W – Matches any non-alphanumeric character equivalent to [^a-zA-Z0-9_]\n",
        "\\D – Matches any non-digit character, this is equivalent to the set class [^0-9]\n",
        "\\S – Matches any non-whitespace character\n",
        "\n",
        "-------------------------------------------------------------------------------"
      ],
      "metadata": {
        "id": "tG1Ov01SYaIZ"
      }
    },
    {
      "cell_type": "markdown",
      "source": [
        "Q14. What is the difference between .*? and .*?\n",
        "\n",
        ".* is a Greedy mode, which returns the longest string that meets the condition. Whereas .*? is a non greedy mode which returns the shortest string that meets the condition.\n",
        "\n",
        "------------------------------------------------------------------------------"
      ],
      "metadata": {
        "id": "cbTUX6urYbYH"
      }
    },
    {
      "cell_type": "markdown",
      "source": [
        "Q15. What is the syntax for matching both numbers and lowercase letters with a character class?\n",
        "\n",
        "The Synatax is Either [a-z0-9] or [0-9a-z]\n",
        "\n",
        "-------------------------------------------------------------------------------"
      ],
      "metadata": {
        "id": "6l13cnoUYddd"
      }
    },
    {
      "cell_type": "markdown",
      "source": [
        "Q16. What is the procedure for making a normal expression in regax case insensitive?\n",
        "\n",
        "We can pass re.IGNORECASE as a flag to make a noraml expression case insensitive\n",
        "\n",
        "-------------------------------------------------------------------------------"
      ],
      "metadata": {
        "id": "KHYiQwspssJw"
      }
    },
    {
      "cell_type": "markdown",
      "source": [
        "Q17. What does the . character normally match? What does it match if re.DOTALL is passed as 2nd\n",
        "argument in re.compile()?\n",
        "\n",
        "Dot . character matches everything in input except newline character .. By passing re.DOTALL as a flag to re.compile(), you can make the dot character match all characters, including the newline character.\n",
        "\n",
        "-------------------------------------------------------------------------------"
      ],
      "metadata": {
        "id": "TLNYC37rswPC"
      }
    },
    {
      "cell_type": "markdown",
      "source": [
        "Q18. If numReg = re.compile(r&#39;\\d+&#39;), what will numRegex.sub(&#39;X&#39;, &#39;11 drummers, 10 pipers, five rings, 4\n",
        "hen&#39;) return?\n",
        "\n",
        "The Ouput will be 'X drummers, X pipers, five rings, X hen'\n",
        "\n",
        "-------------------------------------------------------------------------------"
      ],
      "metadata": {
        "id": "o8ne7yEhsysQ"
      }
    },
    {
      "cell_type": "markdown",
      "source": [
        "Q19. What does passing re.VERBOSE as the 2nd argument to re.compile() allow to do?\n",
        "\n",
        "re.VERBOSE will allow to add whitespace and comments to string passed to re.compile().\n",
        "\n",
        "-------------------------------------------------------------------------------"
      ],
      "metadata": {
        "id": "NYv1LjJ-tDqv"
      }
    },
    {
      "cell_type": "markdown",
      "source": [
        "Q20. How would you write a regex that match a number with comma for every three digits? It must\n",
        "match the given following:<br>\n",
        "&#39;42&#39;<br>\n",
        "&#39;1,234&#39;<br>\n",
        "&#39;6,368,745&#39;<br>\n",
        "\n",
        "but not the following:<br>\n",
        "&#39;12,34,567&#39; (which has only two digits between the commas)<br>\n",
        "&#39;1234&#39; (which lacks commas)\n",
        "<br>\n",
        "\n",
        "ANS. '42','1,234', '6,368,745'but not the following: '12,34,567' (which has only two digits between the commas) '1234' (which lacks commas)\n",
        "\n",
        "-------------------------------------------------------------------------------"
      ],
      "metadata": {
        "id": "yhzOW5ustNmX"
      }
    },
    {
      "cell_type": "markdown",
      "source": [
        "Q21. How would you write a regex that matches the full name of someone whose last name is\n",
        "Watanabe? You can assume that the first name that comes before it will always be one word that\n",
        "begins with a capital letter. The regex must match the following:<br>\n",
        "&#39;Haruto Watanabe&#39;<br>\n",
        "&#39;Alice Watanabe&#39;<br>\n",
        "&#39;RoboCop Watanabe&#39;<br>\n",
        "but not the following:<br>\n",
        "&#39;haruto Watanabe&#39; (where the first name is not capitalized)<br>\n",
        "&#39;Mr. Watanabe&#39; (where the preceding word has a nonletter character)<br>\n",
        "&#39;Watanabe&#39; (which has no first name)<br>\n",
        "&#39;Haruto watanabe&#39; (where Watanabe is not capitalized)\n",
        "\n",
        "ANS. pattern = r'[A-Z]{1}[a-z]*\\sWatanabe'\n",
        "\n",
        "------------------------------------------------------------------------------"
      ],
      "metadata": {
        "id": "GF7BuPoptea8"
      }
    },
    {
      "cell_type": "markdown",
      "source": [
        "Q22. How would you write a regex that matches a sentence where the first word is either Alice, Bob,\n",
        "or Carol; the second word is either eats, pets, or throws; the third word is apples, cats, or baseballs;\n",
        "and the sentence ends with a period? This regex should be case-insensitive. It must match the\n",
        "following:<br>\n",
        "&#39;Alice eats apples.&#39;<br>\n",
        "&#39;Bob pets cats.&#39;<br>\n",
        "&#39;Carol throws baseballs.&#39;<br>\n",
        "&#39;Alice throws Apples.&#39;<br>\n",
        "&#39;BOB EATS CATS.&#39;<br>\n",
        "but not the following:<br>\n",
        "&#39;RoboCop eats apples.&#39;<br>\n",
        "&#39;ALICE THROWS FOOTBALLS.&#39;<br>\n",
        "&#39;Carol eats 7 cats.&#39;\n",
        "\n",
        "ANS. r'(Alice|Bob|Carol)\\s(eats|pets|throws)\\s(apples|cats|baseballs)\\.'"
      ],
      "metadata": {
        "id": "JdoqkxIxuFqw"
      }
    }
  ]
}