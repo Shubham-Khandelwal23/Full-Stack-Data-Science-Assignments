{
  "nbformat": 4,
  "nbformat_minor": 0,
  "metadata": {
    "colab": {
      "provenance": []
    },
    "kernelspec": {
      "name": "python3",
      "display_name": "Python 3"
    },
    "language_info": {
      "name": "python"
    }
  },
  "cells": [
    {
      "cell_type": "markdown",
      "source": [
        "Q1. What does an empty dictionary&#39;s code look like?\n",
        "\n",
        "dict = {}"
      ],
      "metadata": {
        "id": "Guvv2PG7afze"
      }
    },
    {
      "cell_type": "code",
      "source": [
        "dict = {}\n",
        "type(dict)"
      ],
      "metadata": {
        "colab": {
          "base_uri": "https://localhost:8080/"
        },
        "id": "7Cwqj1nfapxM",
        "outputId": "5e4a56f0-01f4-4f95-ab4b-88d0add0560e"
      },
      "execution_count": 3,
      "outputs": [
        {
          "output_type": "execute_result",
          "data": {
            "text/plain": [
              "dict"
            ]
          },
          "metadata": {},
          "execution_count": 3
        }
      ]
    },
    {
      "cell_type": "markdown",
      "source": [
        "Q2. What is the value of a dictionary value with the key &#39;foo&#39; and the value 42?\n",
        "\n",
        "{'foo', 42}"
      ],
      "metadata": {
        "id": "Lhst3T2RbD-P"
      }
    },
    {
      "cell_type": "markdown",
      "source": [
        "Q3. What is the most significant distinction between a dictionary and a list?\n",
        "\n",
        "Items in List are Ordered<br>\n",
        "Items in Dictionary are Unordered."
      ],
      "metadata": {
        "id": "ZboAzvVEbYqG"
      }
    },
    {
      "cell_type": "markdown",
      "source": [
        "Q4. What happens if you try to access spam[&#39;foo&#39;] if spam is {&#39;bar&#39;: 100}?\n",
        "\n",
        "It will give Error: KeyError.\n",
        "\n"
      ],
      "metadata": {
        "id": "tkCVyyJBbqpA"
      }
    },
    {
      "cell_type": "code",
      "source": [
        "spam = {'bar':100}\n",
        "spam['foo']"
      ],
      "metadata": {
        "colab": {
          "base_uri": "https://localhost:8080/",
          "height": 183
        },
        "id": "4ubYFFGbb1Zi",
        "outputId": "98100973-489c-47f0-bc5e-70e1f517c172"
      },
      "execution_count": 6,
      "outputs": [
        {
          "output_type": "error",
          "ename": "KeyError",
          "evalue": "ignored",
          "traceback": [
            "\u001b[0;31m---------------------------------------------------------------------------\u001b[0m",
            "\u001b[0;31mKeyError\u001b[0m                                  Traceback (most recent call last)",
            "\u001b[0;32m<ipython-input-6-cea1cd791e68>\u001b[0m in \u001b[0;36m<module>\u001b[0;34m\u001b[0m\n\u001b[1;32m      1\u001b[0m \u001b[0mspam\u001b[0m \u001b[0;34m=\u001b[0m \u001b[0;34m{\u001b[0m\u001b[0;34m'bar'\u001b[0m\u001b[0;34m:\u001b[0m\u001b[0;36m100\u001b[0m\u001b[0;34m}\u001b[0m\u001b[0;34m\u001b[0m\u001b[0;34m\u001b[0m\u001b[0m\n\u001b[0;32m----> 2\u001b[0;31m \u001b[0mspam\u001b[0m\u001b[0;34m[\u001b[0m\u001b[0;34m'foo'\u001b[0m\u001b[0;34m]\u001b[0m\u001b[0;34m\u001b[0m\u001b[0;34m\u001b[0m\u001b[0m\n\u001b[0m",
            "\u001b[0;31mKeyError\u001b[0m: 'foo'"
          ]
        }
      ]
    },
    {
      "cell_type": "markdown",
      "source": [
        "Q5. If a dictionary is stored in spam, what is the difference between the expressions &#39;cat&#39; in spam and\n",
        "&#39;cat&#39; in spam.keys()?"
      ],
      "metadata": {
        "id": "IPnE_2TecbqL"
      }
    },
    {
      "cell_type": "code",
      "source": [
        "spam = {'cat':100}\n",
        "'cat' in spam"
      ],
      "metadata": {
        "colab": {
          "base_uri": "https://localhost:8080/"
        },
        "id": "rzjuhWjLcvkk",
        "outputId": "43c5c077-287c-4282-f5aa-7c8f6e0f573b"
      },
      "execution_count": 8,
      "outputs": [
        {
          "output_type": "execute_result",
          "data": {
            "text/plain": [
              "True"
            ]
          },
          "metadata": {},
          "execution_count": 8
        }
      ]
    },
    {
      "cell_type": "code",
      "source": [
        "'cat' in spam.keys()"
      ],
      "metadata": {
        "colab": {
          "base_uri": "https://localhost:8080/"
        },
        "id": "r-awLFbTdPws",
        "outputId": "c16597c0-4db3-425e-8017-97436b186734"
      },
      "execution_count": 9,
      "outputs": [
        {
          "output_type": "execute_result",
          "data": {
            "text/plain": [
              "True"
            ]
          },
          "metadata": {},
          "execution_count": 9
        }
      ]
    },
    {
      "cell_type": "markdown",
      "source": [
        "Q6. If a dictionary is stored in spam, what is the difference between the expressions &#39;cat&#39; in spam and\n",
        "&#39;cat&#39; in spam.values()?"
      ],
      "metadata": {
        "id": "-AK3rl_cdhHi"
      }
    },
    {
      "cell_type": "code",
      "source": [
        "spam = {'cat':100}\n",
        "'cat' in spam"
      ],
      "metadata": {
        "colab": {
          "base_uri": "https://localhost:8080/"
        },
        "id": "kQvjHGLkdnIj",
        "outputId": "001bc884-f530-408e-84f5-a5a4fdd32863"
      },
      "execution_count": 10,
      "outputs": [
        {
          "output_type": "execute_result",
          "data": {
            "text/plain": [
              "True"
            ]
          },
          "metadata": {},
          "execution_count": 10
        }
      ]
    },
    {
      "cell_type": "code",
      "source": [
        "'cat' in spam.values()"
      ],
      "metadata": {
        "colab": {
          "base_uri": "https://localhost:8080/"
        },
        "id": "vtPON1s8dpKV",
        "outputId": "b4addb41-dc57-460e-9d51-1a360236aec7"
      },
      "execution_count": 11,
      "outputs": [
        {
          "output_type": "execute_result",
          "data": {
            "text/plain": [
              "False"
            ]
          },
          "metadata": {},
          "execution_count": 11
        }
      ]
    },
    {
      "cell_type": "markdown",
      "source": [
        "Q7. What is a shortcut for the following code?\n",
        "if &#39;color&#39; not in spam:\n",
        "spam[&#39;color&#39;] = &#39;black&#39;"
      ],
      "metadata": {
        "id": "CGvwQjJDd3XG"
      }
    },
    {
      "cell_type": "code",
      "source": [
        "spam ={'cat':100}\n",
        "spam.setdefault('color','black')\n",
        "spam"
      ],
      "metadata": {
        "colab": {
          "base_uri": "https://localhost:8080/"
        },
        "id": "R9Ibunqid6_Q",
        "outputId": "bc1f7b55-4b16-4c25-ac35-1ea695c676cb"
      },
      "execution_count": 12,
      "outputs": [
        {
          "output_type": "execute_result",
          "data": {
            "text/plain": [
              "{'cat': 100, 'color': 'black'}"
            ]
          },
          "metadata": {},
          "execution_count": 12
        }
      ]
    },
    {
      "cell_type": "markdown",
      "source": [
        "Q8. How do you &quot;pretty print&quot; dictionary values using which module and function?\n",
        "\n",
        "DONT KNOW THIS ANSWER."
      ],
      "metadata": {
        "id": "ETweKmgteYBK"
      }
    }
  ]
}