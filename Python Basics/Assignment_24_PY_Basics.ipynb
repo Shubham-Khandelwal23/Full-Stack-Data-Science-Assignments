{
  "nbformat": 4,
  "nbformat_minor": 0,
  "metadata": {
    "colab": {
      "provenance": []
    },
    "kernelspec": {
      "name": "python3",
      "display_name": "Python 3"
    },
    "language_info": {
      "name": "python"
    }
  },
  "cells": [
    {
      "cell_type": "markdown",
      "source": [
        "Q1. What is the relationship between def statements and lambda expressions ?\n",
        "\n",
        "def statement is used to create a normal function. where as lamba expressions are used to create Anonymous functions. which can be assigned to a variable and can be called using the variable later in function.\n",
        "\n",
        "Lambda's body is a single expression and not a block of statements like def statement. The lambda expression's body is similar to what we'd put in a def body's return statement. We simply type the result as an expression instead of explicitly returning it. Because it is limited to an expression, a lambda is less general than a def statement.\n",
        "\n",
        "-------------------------------------------------------------------------------"
      ],
      "metadata": {
        "id": "YTHaDkzBA5qC"
      }
    },
    {
      "cell_type": "markdown",
      "source": [
        "Q2. What is the benefit of lambda?\n",
        "\n",
        "The following are some of the benefits of lambda expressions:\n",
        "\n",
        "1.Can be used to create Nameless/Anonymous functions inside some complex functions if we are planning to use it only once.<br>\n",
        "2.Moderate to small functions can be created in a single line.<br>\n",
        "3.Fuctions created using lambda expressions can be assigned to a variable and can be used by simply calling the variable\n",
        "\n",
        "-------------------------------------------------------------------------------"
      ],
      "metadata": {
        "id": "3l2LufuMBJNL"
      }
    },
    {
      "cell_type": "markdown",
      "source": [
        "Q3. Compare and contrast map, filter, and reduce.\n",
        "\n",
        "The differences between map, filter and reduce are:\n",
        "\n",
        "1.map(): The map() function is a type of higher-order. This function takes another function as a parameter\n",
        "along with a sequence of iterables and returns an output after applying the function to each iterable present in the sequence.<br>\n",
        "\n",
        "2.filter(): The filter() function is used to create an output list consisting of values for which the function returns true.<br> \n",
        "\n",
        "3.reduce(): The reduce() function, as the name describes, applies a given function to the iterables and returns a single value.\n",
        "\n",
        "-------------------------------------------------------------------------------"
      ],
      "metadata": {
        "id": "68-UgUGnBbMT"
      }
    },
    {
      "cell_type": "markdown",
      "source": [
        "Q4. What are function annotations, and how are they used?\n",
        "\n",
        "Function annotations provide a way of associating various parts of a function with arbitrary pythoncexpressions at compile time.\n",
        "Annotations of simple parameters def func(x: expression, y: expression = 20):\n",
        "Whereas the annotations for excess parameters are as − def func (**args: expression, **kwargs: expression):\n",
        "\n",
        "-------------------------------------------------------------------------------"
      ],
      "metadata": {
        "id": "7rXlJ0PhB1OL"
      }
    },
    {
      "cell_type": "markdown",
      "source": [
        "Q5. What are recursive functions, and how are they used?\n",
        "\n",
        "A recursive function is a function that calls itself during its execution. The process may repeat several times, outputting the result and the end of each iteration.\n",
        "\n",
        "--------------------------------------------------------------------------------"
      ],
      "metadata": {
        "id": "AU0XqdIyCA1G"
      }
    },
    {
      "cell_type": "markdown",
      "source": [
        "Q6. What are some general design guidelines for coding functions?\n",
        "\n",
        "Some of the general design guidelines for coding functions are:\n",
        "\n",
        "1.Always use a docstring to explain the functionality of the function<br>\n",
        "2.avoid using or limited use of global variables<br>\n",
        "3.Proper Identation to increase the code readability<br>\n",
        "4.try to follow a naming convention for function names (pascalCase or camelCase) and stick with the same convention throughout the application.<br>\n",
        "5.Avoid using digits while choosing a variable name<br>\n",
        "try to use a name for the function which conveys the purpose of the function<br>\n",
        "6.Local variables should be named using camelCase format (ex: localVariable) whereas Global variables names should be using PascalCase (ex:GlobalVariable).<br>\n",
        "7.Constant should be represented in allcaps (ex:CONSTANT).\n",
        "\n",
        "-------------------------------------------------------------------------------"
      ],
      "metadata": {
        "id": "IEIroA-sCIO9"
      }
    },
    {
      "cell_type": "markdown",
      "source": [
        "Q7. Name three or more ways that functions can communicate results to a caller.\n",
        "\n",
        "Some of the ways in which a function can communicate with the calling function is:\n",
        "\n",
        "print<br>\n",
        "return<br>\n",
        "yield"
      ],
      "metadata": {
        "id": "GkodrCVTCmPS"
      }
    }
  ]
}