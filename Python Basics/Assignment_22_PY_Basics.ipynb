{
  "nbformat": 4,
  "nbformat_minor": 0,
  "metadata": {
    "colab": {
      "provenance": []
    },
    "kernelspec": {
      "name": "python3",
      "display_name": "Python 3"
    },
    "language_info": {
      "name": "python"
    }
  },
  "cells": [
    {
      "cell_type": "markdown",
      "source": [
        "Q1. What is the result of the code, and explain?\n",
        "\n",
        "&gt;&gt;&gt; X = &#39;iNeuron&#39;\n",
        "&gt;&gt;&gt; def func():\n",
        "print(X)\n",
        "\n",
        "&gt;&gt;&gt; func()\n",
        "\n",
        "The Result of this code is iNeuron, it's because the function intially looks for the variable X in its local scope,But since there is no local variable X, its returns the value of global variable x ie iNeuron"
      ],
      "metadata": {
        "id": "aK7zz_17NBkO"
      }
    },
    {
      "cell_type": "code",
      "source": [
        ">>> X = 'iNeuron'\n",
        ">>> def func():\n",
        "  print(X)\n",
        ">>> func()"
      ],
      "metadata": {
        "colab": {
          "base_uri": "https://localhost:8080/"
        },
        "id": "dwj_kgsPNI7v",
        "outputId": "5a375643-a6ef-4543-c078-4dde4e78b0fc"
      },
      "execution_count": 3,
      "outputs": [
        {
          "output_type": "stream",
          "name": "stdout",
          "text": [
            "iNeuron\n"
          ]
        }
      ]
    },
    {
      "cell_type": "markdown",
      "source": [
        "Q2. What is the result of the code, and explain?\n",
        "\n",
        "&gt;&gt;&gt; X = &#39;iNeuron&#39;\n",
        "&gt;&gt;&gt; def func():\n",
        "X = &#39;NI!&#39;\n",
        "\n",
        "&gt;&gt;&gt; func()\n",
        "&gt;&gt;&gt; print(X)\n",
        "\n",
        "The Result of this cide is NI!, because the function initially looks for the variable X in its local scope if X is not available then it checks for variable X in the global scope, Since here the X is present in the local scope. it prints the value NI!"
      ],
      "metadata": {
        "id": "mxpla6aNNfZ_"
      }
    },
    {
      "cell_type": "code",
      "source": [
        ">>> X = 'iNeuron'\n",
        ">>> def func():\n",
        "  X = 'NI!'\n",
        "\n",
        ">>> func()\n",
        ">>> print(X)"
      ],
      "metadata": {
        "colab": {
          "base_uri": "https://localhost:8080/"
        },
        "id": "2WIRI2k2NkoS",
        "outputId": "e6e74fa8-45d3-4c0a-ed47-f78ff98299b6"
      },
      "execution_count": 17,
      "outputs": [
        {
          "output_type": "stream",
          "name": "stdout",
          "text": [
            "iNeuron\n"
          ]
        }
      ]
    },
    {
      "cell_type": "markdown",
      "source": [
        "Q3. What does this code print, and why?\n",
        "\n",
        "&gt;&gt;&gt; X = &#39;iNeuron&#39;\n",
        "&gt;&gt;&gt; def func():\n",
        "X = &#39;NI&#39;\n",
        "print(X)\n",
        "\n",
        "&gt;&gt;&gt; func()\n",
        "&gt;&gt;&gt; print(X)\n",
        "\n",
        "The output of the code is NI and iNeuron. X=NI is in the local scope of the function func() hence the function prints the x value as NI. X = 'iNeuron' is in the global scope. hence print(X) prints output as iNeuron"
      ],
      "metadata": {
        "id": "Yb4omGh0QQFZ"
      }
    },
    {
      "cell_type": "code",
      "source": [
        "X = 'iNeuron'\n",
        "def func():\n",
        "    X = 'NI'\n",
        "    print(X)\n",
        "func()\n",
        "print(X)"
      ],
      "metadata": {
        "colab": {
          "base_uri": "https://localhost:8080/"
        },
        "id": "26YCBBaxQUHk",
        "outputId": "8e4726df-4c99-445b-d82a-999974852501"
      },
      "execution_count": 18,
      "outputs": [
        {
          "output_type": "stream",
          "name": "stdout",
          "text": [
            "NI\n",
            "iNeuron\n"
          ]
        }
      ]
    },
    {
      "cell_type": "markdown",
      "source": [
        "Q4. What output does this code produce? Why?\n",
        "\n",
        "&gt;&gt;&gt; X = &#39;iNeuron&#39;\n",
        "&gt;&gt;&gt; def func():\n",
        "global X\n",
        "X = &#39;NI&#39;\n",
        "\n",
        "&gt;&gt;&gt; func()\n",
        "&gt;&gt;&gt; print(X)\n",
        "\n",
        " The output of the code is NI. the global keyword allows a variable to be accessible in the current scope. since we are using global keyword inside the function func it directly access the variable in X in global scope. and changes its value to NI. hence the output of the code is NI"
      ],
      "metadata": {
        "id": "dUd_PA9mQfm9"
      }
    },
    {
      "cell_type": "code",
      "source": [
        "X = 'iNeuron'\n",
        "def func():\n",
        "    global X\n",
        "    X = 'NI'\n",
        "func()\n",
        "print(X)"
      ],
      "metadata": {
        "colab": {
          "base_uri": "https://localhost:8080/"
        },
        "id": "Gy_eD4lmQmXn",
        "outputId": "d25aa493-7900-4772-8aa6-4348cdabfd4e"
      },
      "execution_count": 19,
      "outputs": [
        {
          "output_type": "stream",
          "name": "stdout",
          "text": [
            "NI\n"
          ]
        }
      ]
    },
    {
      "cell_type": "markdown",
      "source": [
        "Q5. What about this code—what’s the output, and why?\n",
        "\n",
        "&gt;&gt;&gt; X = &#39;iNeuron&#39;\n",
        "&gt;&gt;&gt; def func():\n",
        "X = &#39;NI&#39;\n",
        "def nested():\n",
        "print(X)\n",
        "nested()\n",
        "\n",
        "&gt;&gt;&gt; func()\n",
        "&gt;&gt;&gt; X\n",
        "\n",
        "The output of the code is NI. the reason for this output is if a function wants to access a variable, if its not available in its localscope. it looks for the variable in its global scope. similarly here also function nested looks for variable X in its global scope. hence the output of the code is NI"
      ],
      "metadata": {
        "id": "ePHvaAnHQpTO"
      }
    },
    {
      "cell_type": "code",
      "source": [
        "X = 'iNeuron'\n",
        "def func():\n",
        "    X = 'NI'\n",
        "    def nested():\n",
        "        print(X)\n",
        "    nested()\n",
        "func()\n",
        "X"
      ],
      "metadata": {
        "colab": {
          "base_uri": "https://localhost:8080/",
          "height": 53
        },
        "id": "XVpyNj1QQo9k",
        "outputId": "e15c510b-148e-44bb-8935-6495662eaa24"
      },
      "execution_count": 20,
      "outputs": [
        {
          "output_type": "stream",
          "name": "stdout",
          "text": [
            "NI\n"
          ]
        },
        {
          "output_type": "execute_result",
          "data": {
            "text/plain": [
              "'iNeuron'"
            ],
            "application/vnd.google.colaboratory.intrinsic+json": {
              "type": "string"
            }
          },
          "metadata": {},
          "execution_count": 20
        }
      ]
    },
    {
      "cell_type": "markdown",
      "source": [
        "Q6. How about this code: what is its output in Python 3, and explain?\n",
        "\n",
        "&gt;&gt;&gt; def func():\n",
        "X = &#39;NI&#39;\n",
        "def nested():\n",
        "nonlocal X\n",
        "X = &#39;Spam&#39;\n",
        "nested()\n",
        "print(X)\n",
        "\n",
        "&gt;&gt;&gt; func()\n",
        "\n",
        "The output of the code is Spam. nonlocal keyword in python is used to declare a variable as not local.Hence the statement X = \"Spam\" is modified in the global scope. hence the output of print(X) statement is Spam"
      ],
      "metadata": {
        "id": "nM9hb5qnQx1B"
      }
    },
    {
      "cell_type": "code",
      "source": [
        "def func():\n",
        "    X = 'NI'\n",
        "    def nested():\n",
        "        nonlocal X\n",
        "        X = 'Spam'\n",
        "    nested()\n",
        "    print(X)\n",
        "func()"
      ],
      "metadata": {
        "colab": {
          "base_uri": "https://localhost:8080/"
        },
        "id": "vPxI4VvlQ6_H",
        "outputId": "0d901f3f-0fdf-49f5-917a-ac1de0431f7e"
      },
      "execution_count": 21,
      "outputs": [
        {
          "output_type": "stream",
          "name": "stdout",
          "text": [
            "Spam\n"
          ]
        }
      ]
    }
  ]
}