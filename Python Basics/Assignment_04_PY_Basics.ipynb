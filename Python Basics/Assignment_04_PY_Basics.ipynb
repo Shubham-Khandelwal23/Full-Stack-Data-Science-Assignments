{
  "nbformat": 4,
  "nbformat_minor": 0,
  "metadata": {
    "colab": {
      "provenance": []
    },
    "kernelspec": {
      "name": "python3",
      "display_name": "Python 3"
    },
    "language_info": {
      "name": "python"
    }
  },
  "cells": [
    {
      "cell_type": "markdown",
      "source": [
        "Q1. What exactly is []?\n",
        "\n",
        "It is used for creating list. [] is a empty list.\n",
        "\n",
        "------------------------------------------------------------------------------"
      ],
      "metadata": {
        "id": "WPojcSk77gQg"
      }
    },
    {
      "cell_type": "markdown",
      "source": [
        "Q2. In a list of values stored in a variable called spam, how would you assign the value &#39;hello&#39; as the\n",
        "third value? (Assume [2, 4, 6, 8, 10] are in spam.)"
      ],
      "metadata": {
        "id": "dHXjme-t7p4L"
      }
    },
    {
      "cell_type": "code",
      "source": [
        "spam = [2, 4, 6, 8, 10]\n",
        "spam[2]='hello'\n",
        "spam"
      ],
      "metadata": {
        "colab": {
          "base_uri": "https://localhost:8080/"
        },
        "id": "XJkPVKnU79ai",
        "outputId": "0f02f607-75f0-47ec-eff7-12509958c11c"
      },
      "execution_count": 2,
      "outputs": [
        {
          "output_type": "execute_result",
          "data": {
            "text/plain": [
              "[2, 4, 'hello', 8, 10]"
            ]
          },
          "metadata": {},
          "execution_count": 2
        }
      ]
    },
    {
      "cell_type": "markdown",
      "source": [
        "Q3. What is the value of spam[int(int(&#39;3&#39; * 2) / 11)]?"
      ],
      "metadata": {
        "id": "sj3Ec-M89A4t"
      }
    },
    {
      "cell_type": "code",
      "source": [
        "spam = ['a', 'b','c','d']\n",
        "spam[int(int('3' * 2) / 11)] # spam[int(33/11)] = spam[3]"
      ],
      "metadata": {
        "colab": {
          "base_uri": "https://localhost:8080/",
          "height": 35
        },
        "id": "kBxCjw1E90kc",
        "outputId": "e0f26c9d-1722-45a0-db4f-5309d61f1b97"
      },
      "execution_count": 3,
      "outputs": [
        {
          "output_type": "execute_result",
          "data": {
            "text/plain": [
              "'d'"
            ],
            "application/vnd.google.colaboratory.intrinsic+json": {
              "type": "string"
            }
          },
          "metadata": {},
          "execution_count": 3
        }
      ]
    },
    {
      "cell_type": "markdown",
      "source": [
        "Q4. What is the value of spam[-1]?"
      ],
      "metadata": {
        "id": "H801-7qy98NB"
      }
    },
    {
      "cell_type": "code",
      "source": [
        "spam=['a','b','c','d']\n",
        "spam[-1]"
      ],
      "metadata": {
        "colab": {
          "base_uri": "https://localhost:8080/",
          "height": 35
        },
        "id": "UaLN1-uy-GJM",
        "outputId": "d20f910d-febc-4d53-9bd0-9aa6c4197b4f"
      },
      "execution_count": 4,
      "outputs": [
        {
          "output_type": "execute_result",
          "data": {
            "text/plain": [
              "'d'"
            ],
            "application/vnd.google.colaboratory.intrinsic+json": {
              "type": "string"
            }
          },
          "metadata": {},
          "execution_count": 4
        }
      ]
    },
    {
      "cell_type": "markdown",
      "source": [
        "Q5. What is the value of spam[:2]?"
      ],
      "metadata": {
        "id": "sEb_YDyU-bbP"
      }
    },
    {
      "cell_type": "code",
      "source": [
        "spam=['a','b','c','d']\n",
        "spam[:2]"
      ],
      "metadata": {
        "colab": {
          "base_uri": "https://localhost:8080/"
        },
        "id": "Q7MskXVi-fr3",
        "outputId": "12e93ff7-fe32-49f4-96ab-e0f34da90e3d"
      },
      "execution_count": 6,
      "outputs": [
        {
          "output_type": "execute_result",
          "data": {
            "text/plain": [
              "['a', 'b']"
            ]
          },
          "metadata": {},
          "execution_count": 6
        }
      ]
    },
    {
      "cell_type": "markdown",
      "source": [
        "Q6. What is the value of bacon.index(&#39;cat&#39;)?\n",
        "Let&#39;s pretend bacon has the list [3.14, &#39;cat,&#39; 11, &#39;cat,&#39; True] for the next three questions."
      ],
      "metadata": {
        "id": "quE42-5d-yGU"
      }
    },
    {
      "cell_type": "code",
      "source": [
        "bacon = [3.14, 'cat', 11, 'cat', True]\n",
        "bacon.index('cat') # it returns the index of first occurrence of 'cat'"
      ],
      "metadata": {
        "colab": {
          "base_uri": "https://localhost:8080/"
        },
        "id": "ZKxOayVo_JUe",
        "outputId": "f676c0ac-11ea-41cc-9ca4-acc27dbac19a"
      },
      "execution_count": 7,
      "outputs": [
        {
          "output_type": "execute_result",
          "data": {
            "text/plain": [
              "1"
            ]
          },
          "metadata": {},
          "execution_count": 7
        }
      ]
    },
    {
      "cell_type": "markdown",
      "source": [
        "Q7. How does bacon.append(99) change the look of the list value in bacon?"
      ],
      "metadata": {
        "id": "OlRPxb5R_1zc"
      }
    },
    {
      "cell_type": "code",
      "source": [
        "bacon = [3.14, 'cat', 11, 'cat', True]\n",
        "bacon.append(99) # append adds the item at the end of the list\n",
        "bacon"
      ],
      "metadata": {
        "colab": {
          "base_uri": "https://localhost:8080/"
        },
        "id": "D0-_PZb6_46t",
        "outputId": "99360240-57b6-4244-eaac-5f85a8e90a89"
      },
      "execution_count": 8,
      "outputs": [
        {
          "output_type": "execute_result",
          "data": {
            "text/plain": [
              "[3.14, 'cat', 11, 'cat', True, 99]"
            ]
          },
          "metadata": {},
          "execution_count": 8
        }
      ]
    },
    {
      "cell_type": "markdown",
      "source": [
        "Q8. How does bacon.remove(&#39;cat&#39;) change the look of the list in bacon?"
      ],
      "metadata": {
        "id": "rt9nQVZzAGyG"
      }
    },
    {
      "cell_type": "code",
      "source": [
        "bacon = [3.14, 'cat', 11, 'cat', True]\n",
        "bacon.remove('cat') # remove first occurence of the word\n",
        "bacon"
      ],
      "metadata": {
        "colab": {
          "base_uri": "https://localhost:8080/"
        },
        "id": "K1cSEfVZAIHg",
        "outputId": "62acb4af-1fd0-4e87-8465-b3832409e76f"
      },
      "execution_count": 9,
      "outputs": [
        {
          "output_type": "execute_result",
          "data": {
            "text/plain": [
              "[3.14, 11, 'cat', True]"
            ]
          },
          "metadata": {},
          "execution_count": 9
        }
      ]
    },
    {
      "cell_type": "markdown",
      "source": [
        "Q9. What are the list concatenation and list replication operators?\n",
        "\n",
        "(*) : Replication<br>\n",
        "(+) : Concatenation\n",
        "\n",
        "-----------------------------------------------------------------------------"
      ],
      "metadata": {
        "id": "99b6-Rp1AVBL"
      }
    },
    {
      "cell_type": "markdown",
      "source": [
        "Q10. What is difference between the list methods append() and insert()?\n",
        "\n",
        "append() Appends object to the end of the list\n",
        "insert() Insert object before index"
      ],
      "metadata": {
        "id": "s7v7AEdEAz9q"
      }
    },
    {
      "cell_type": "code",
      "source": [
        "spam = [2, 4, 6, 8]\n",
        "spam.append(10)\n",
        "spam"
      ],
      "metadata": {
        "colab": {
          "base_uri": "https://localhost:8080/"
        },
        "id": "fdQnyWRzB58d",
        "outputId": "cae01196-358e-44d3-b712-9745e2a7e416"
      },
      "execution_count": 11,
      "outputs": [
        {
          "output_type": "execute_result",
          "data": {
            "text/plain": [
              "[2, 4, 6, 8, 10]"
            ]
          },
          "metadata": {},
          "execution_count": 11
        }
      ]
    },
    {
      "cell_type": "code",
      "source": [
        "spam = [2, 4, 8, 10]\n",
        "spam.insert(2, 6)\n",
        "spam"
      ],
      "metadata": {
        "colab": {
          "base_uri": "https://localhost:8080/"
        },
        "id": "tFJAi_J6CPM6",
        "outputId": "d663ca22-c476-424e-82d9-8707ba695473"
      },
      "execution_count": 12,
      "outputs": [
        {
          "output_type": "execute_result",
          "data": {
            "text/plain": [
              "[2, 4, 6, 8, 10]"
            ]
          },
          "metadata": {},
          "execution_count": 12
        }
      ]
    },
    {
      "cell_type": "markdown",
      "source": [
        "Q11. What are the two methods for removing items from a list?"
      ],
      "metadata": {
        "id": "tXnAjXJ9Ce7Y"
      }
    },
    {
      "cell_type": "code",
      "source": [
        "spam = [2, 4, 2, 6, 10]\n",
        "spam.remove(2)\n",
        "spam #Removes first occurence of value."
      ],
      "metadata": {
        "colab": {
          "base_uri": "https://localhost:8080/"
        },
        "id": "KJlVe8oaCq05",
        "outputId": "acc7916f-b1c6-4a3a-ed60-aa9e670fa903"
      },
      "execution_count": 13,
      "outputs": [
        {
          "output_type": "execute_result",
          "data": {
            "text/plain": [
              "[4, 2, 6, 10]"
            ]
          },
          "metadata": {},
          "execution_count": 13
        }
      ]
    },
    {
      "cell_type": "code",
      "source": [
        "spam = [2, 4, 6, 8, 10]\n",
        "spam.pop(1)\n",
        "spam #Removes and return item at index (defalut: last)"
      ],
      "metadata": {
        "colab": {
          "base_uri": "https://localhost:8080/"
        },
        "id": "WY0ZHc_OC6Ws",
        "outputId": "8e0cd5c6-d096-44c4-acc6-6e4eaa6158b1"
      },
      "execution_count": 14,
      "outputs": [
        {
          "output_type": "execute_result",
          "data": {
            "text/plain": [
              "[2, 6, 8, 10]"
            ]
          },
          "metadata": {},
          "execution_count": 14
        }
      ]
    },
    {
      "cell_type": "markdown",
      "source": [
        "Q12. Describe how list values and string values are identical.\n",
        "\n",
        "1) Both lists and strings can be passed to len()<br>\n",
        "2) Have indexes and slices<br>\n",
        "3) Can be used in for loops<br>\n",
        "4) Can be concatenated or replicated<br>\n",
        "5) Can be used with the in and not in operators\n"
      ],
      "metadata": {
        "id": "qBcAVvVTDVwy"
      }
    },
    {
      "cell_type": "markdown",
      "source": [
        "Q13. What&#39;s the difference between tuples and lists?\n",
        "\n",
        "Lists : are mutable , they can have values added, removed, or changed. lists use the square brackets, []\n",
        "Tuples : are immutable; they cannot be changed at all. Tuples are written using parentheses, ()"
      ],
      "metadata": {
        "id": "zlipXoT_D-va"
      }
    },
    {
      "cell_type": "markdown",
      "source": [
        "Q14. How do you type a tuple value that only contains the integer 42?"
      ],
      "metadata": {
        "id": "dwLrSkAuEPtT"
      }
    },
    {
      "cell_type": "code",
      "source": [
        "tuple = (42)\n",
        "tuple"
      ],
      "metadata": {
        "colab": {
          "base_uri": "https://localhost:8080/"
        },
        "id": "IxDWPz61EV5B",
        "outputId": "66fde0c1-1c2f-43da-92b9-072415116ee2"
      },
      "execution_count": 17,
      "outputs": [
        {
          "output_type": "execute_result",
          "data": {
            "text/plain": [
              "42"
            ]
          },
          "metadata": {},
          "execution_count": 17
        }
      ]
    },
    {
      "cell_type": "markdown",
      "source": [
        "Q15. How do you get a list value&#39;s tuple form? How do you get a tuple value&#39;s list form?"
      ],
      "metadata": {
        "id": "YPXQhbXmEiGP"
      }
    },
    {
      "cell_type": "code",
      "source": [
        "l1 = [2,3]\n",
        "l = tuple(l1)\n",
        "l"
      ],
      "metadata": {
        "colab": {
          "base_uri": "https://localhost:8080/",
          "height": 200
        },
        "id": "b2nMCzInEzk9",
        "outputId": "f49ebdff-baa7-41a7-e6fd-1a14bc133422"
      },
      "execution_count": 21,
      "outputs": [
        {
          "output_type": "error",
          "ename": "TypeError",
          "evalue": "ignored",
          "traceback": [
            "\u001b[0;31m---------------------------------------------------------------------------\u001b[0m",
            "\u001b[0;31mTypeError\u001b[0m                                 Traceback (most recent call last)",
            "\u001b[0;32m<ipython-input-21-6cca7f97b596>\u001b[0m in \u001b[0;36m<module>\u001b[0;34m\u001b[0m\n\u001b[1;32m      1\u001b[0m \u001b[0ml1\u001b[0m \u001b[0;34m=\u001b[0m \u001b[0;34m[\u001b[0m\u001b[0;36m2\u001b[0m\u001b[0;34m,\u001b[0m\u001b[0;36m3\u001b[0m\u001b[0;34m]\u001b[0m\u001b[0;34m\u001b[0m\u001b[0;34m\u001b[0m\u001b[0m\n\u001b[0;32m----> 2\u001b[0;31m \u001b[0ml\u001b[0m \u001b[0;34m=\u001b[0m \u001b[0mtuple\u001b[0m\u001b[0;34m(\u001b[0m\u001b[0ml1\u001b[0m\u001b[0;34m)\u001b[0m\u001b[0;34m\u001b[0m\u001b[0;34m\u001b[0m\u001b[0m\n\u001b[0m\u001b[1;32m      3\u001b[0m \u001b[0ml\u001b[0m\u001b[0;34m\u001b[0m\u001b[0;34m\u001b[0m\u001b[0m\n",
            "\u001b[0;31mTypeError\u001b[0m: 'int' object is not callable"
          ]
        }
      ]
    },
    {
      "cell_type": "code",
      "source": [
        "t1 = (3,4)\n",
        "t = list(t1)\n",
        "t"
      ],
      "metadata": {
        "colab": {
          "base_uri": "https://localhost:8080/",
          "height": 200
        },
        "id": "nfz9-RASFb7M",
        "outputId": "4d34ba5f-b3d2-4380-f691-04e8dbfac401"
      },
      "execution_count": 22,
      "outputs": [
        {
          "output_type": "error",
          "ename": "TypeError",
          "evalue": "ignored",
          "traceback": [
            "\u001b[0;31m---------------------------------------------------------------------------\u001b[0m",
            "\u001b[0;31mTypeError\u001b[0m                                 Traceback (most recent call last)",
            "\u001b[0;32m<ipython-input-22-5955f68c345c>\u001b[0m in \u001b[0;36m<module>\u001b[0;34m\u001b[0m\n\u001b[1;32m      1\u001b[0m \u001b[0mt1\u001b[0m \u001b[0;34m=\u001b[0m \u001b[0;34m(\u001b[0m\u001b[0;36m3\u001b[0m\u001b[0;34m,\u001b[0m\u001b[0;36m4\u001b[0m\u001b[0;34m)\u001b[0m\u001b[0;34m\u001b[0m\u001b[0;34m\u001b[0m\u001b[0m\n\u001b[0;32m----> 2\u001b[0;31m \u001b[0mt\u001b[0m \u001b[0;34m=\u001b[0m \u001b[0mlist\u001b[0m\u001b[0;34m(\u001b[0m\u001b[0mt1\u001b[0m\u001b[0;34m)\u001b[0m\u001b[0;34m\u001b[0m\u001b[0;34m\u001b[0m\u001b[0m\n\u001b[0m\u001b[1;32m      3\u001b[0m \u001b[0mt\u001b[0m\u001b[0;34m\u001b[0m\u001b[0;34m\u001b[0m\u001b[0m\n",
            "\u001b[0;31mTypeError\u001b[0m: 'list' object is not callable"
          ]
        }
      ]
    },
    {
      "cell_type": "markdown",
      "source": [
        "Q16. Variables that &quot;contain&quot; list values are not necessarily lists themselves. Instead, what do they\n",
        "contain?\n",
        "\n",
        "They contain references to list values\n",
        "\n",
        "-----------------------------------------------------------------------------"
      ],
      "metadata": {
        "id": "zgbYkxpNFh2v"
      }
    },
    {
      "cell_type": "markdown",
      "source": [
        "Q17. How do you distinguish between copy.copy() and copy.deepcopy()?\n",
        "\n",
        "The copy.copy() function will do a shallow copy of a list,\n",
        "The copy.deepcopy() function will do a deep copy of a list. only copy.deepcopy() will duplicate any lists inside the list"
      ],
      "metadata": {
        "id": "J0f0m7z-F8FQ"
      }
    }
  ]
}