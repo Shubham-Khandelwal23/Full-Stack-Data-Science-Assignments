{
  "nbformat": 4,
  "nbformat_minor": 0,
  "metadata": {
    "colab": {
      "provenance": []
    },
    "kernelspec": {
      "name": "python3",
      "display_name": "Python 3"
    },
    "language_info": {
      "name": "python"
    }
  },
  "cells": [
    {
      "cell_type": "markdown",
      "source": [
        "Q1. How do you distinguish between shutil.copy() and shutil.copytree()?\n",
        "\n",
        "shutil.copy : Copies a single file<br>\n",
        "shutil.copytree() : will copy an entire folder and every folder and file contained in it\n",
        "\n",
        "------------------------------------------------------------------------------"
      ],
      "metadata": {
        "id": "a2U46bV8KyOb"
      }
    },
    {
      "cell_type": "markdown",
      "source": [
        "Q2. What function is used to rename files??\n",
        "\n",
        "os.rename() method\n",
        "rename() method in Python is used to rename a file or directory.\n",
        "\n",
        "-----------------------------------------------------------------------------"
      ],
      "metadata": {
        "id": "fMOn4mlBLAFK"
      }
    },
    {
      "cell_type": "markdown",
      "source": [
        "Q3. What is the difference between the delete functions in the send2trash and shutil modules?\n",
        "\n",
        "The send2trash functions will move a file or folder to the recycle bin, while shutil functions will permanently delete files and folders.\n",
        "\n",
        "------------------------------------------------------------------------------"
      ],
      "metadata": {
        "id": "YE91bSdILQA-"
      }
    },
    {
      "cell_type": "markdown",
      "source": [
        "Q4.ZipFile objects have a close() method just like File objects’ close() method. What ZipFile method is\n",
        "equivalent to File objects’ open() method?\n",
        "\n",
        "DONT KNOW THIS ANSWER\n",
        "\n",
        "-----------------------------------------------------------------------------"
      ],
      "metadata": {
        "id": "0p6ybnWPL44g"
      }
    },
    {
      "cell_type": "markdown",
      "source": [
        "Q5. Create a programme that searches a folder tree for files with a certain file extension (such as .pdf\n",
        "or .jpg). Copy these files from whatever location they are in to a new folder.\n",
        "\n",
        "DONT KNOW THIS ANSWER\n",
        "\n",
        "-----------------------------------------------------------------------------"
      ],
      "metadata": {
        "id": "w5MEnLK2MIJ1"
      }
    }
  ]
}