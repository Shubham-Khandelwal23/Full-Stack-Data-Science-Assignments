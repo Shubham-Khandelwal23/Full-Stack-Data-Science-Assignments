{
  "nbformat": 4,
  "nbformat_minor": 0,
  "metadata": {
    "colab": {
      "provenance": []
    },
    "kernelspec": {
      "name": "python3",
      "display_name": "Python 3"
    },
    "language_info": {
      "name": "python"
    }
  },
  "cells": [
    {
      "cell_type": "markdown",
      "source": [
        "Q1. To what does a relative path refer?\n",
        "\n",
        "A relative path in Python is a path that describes the location of a directory relative to the entry point where you run the Python script.\n",
        "\n",
        "-----------------------------------------------------------------------------"
      ],
      "metadata": {
        "id": "1YSvq4Da7iE3"
      }
    },
    {
      "cell_type": "markdown",
      "source": [
        "Q2. What does an absolute path start with your operating system?\n",
        "\n",
        "An absolute path is a path that contains the entire path to the file or directory that you need to access. This path will begin at the home directory of your computer and will end with the file or directory that you wish to access. Absolute paths ensure that Python can find the exact file on your computer\n",
        "\n",
        "------------------------------------------------------------------------------"
      ],
      "metadata": {
        "id": "XI2FSx45-05l"
      }
    },
    {
      "cell_type": "markdown",
      "source": [
        "Q3. What do the functions os.getcwd() and os.chdir() do?\n",
        "\n",
        "os.getcwd(): os.getcwd() method tells us the location of current working directory (CWD).<br>\n",
        "os.chdir(): os.chdir() method in Python used to change the current working directory to specified path.\n",
        "\n",
        "------------------------------------------------------------------------------"
      ],
      "metadata": {
        "id": "YgbvBk6v_E_h"
      }
    },
    {
      "cell_type": "markdown",
      "source": [
        "Q4. What are the . and .. folders?\n",
        "\n",
        "DONT KNOW THIS ANSWER\n",
        "\n",
        "------------------------------------------------------------------------------"
      ],
      "metadata": {
        "id": "12DQUoHZDAyI"
      }
    },
    {
      "cell_type": "markdown",
      "source": [
        "Q5. In C:\\bacon\\eggs\\spam.txt, which part is the dir name, and which part is the base name?\n",
        "\n",
        "C:\\bacon\\eggs is the dir name, while spam.txt is the base name.\n",
        "\n",
        "------------------------------------------------------------------------------"
      ],
      "metadata": {
        "id": "kj-CrPGZDOvf"
      }
    },
    {
      "cell_type": "markdown",
      "source": [
        "Q6. What are the three “mode” arguments that can be passed to the open() function?\n",
        "\n",
        "r : Opens the file in read-only mode. ...<br>\n",
        "rb : Opens the file as read-only in binary format and starts reading from the beginning of the file. ...<br>\n",
        "r+ : Opens a file for reading and writing, placing the pointer at the beginning of the file.\n",
        "\n",
        "------------------------------------------------------------------------------"
      ],
      "metadata": {
        "id": "zG6m__QKDfEK"
      }
    },
    {
      "cell_type": "markdown",
      "source": [
        "Q7. What happens if an existing file is opened in write mode?\n",
        "\n",
        "To open a file in write mode, “w” is specified. When mode “w” is specified, it creates an empty file for output operations. What if the file already exists? If a file with the same name already exists, its contents are discarded and the file is treated as a new empty file.\n",
        "\n",
        "-----------------------------------------------------------------------------"
      ],
      "metadata": {
        "id": "EgTH3qZyEVxE"
      }
    },
    {
      "cell_type": "markdown",
      "source": [
        "Q8. How do you tell the difference between read() and readlines()?\n",
        "\n",
        "The only difference between the Read() and ReadLine() is that Console. Read is used to read only single character from the standard output device, while Console. ReadLine is used to read a line or string from the standard output device.\n",
        "\n",
        "------------------------------------------------------------------------------"
      ],
      "metadata": {
        "id": "X8DYnX3NEnNe"
      }
    },
    {
      "cell_type": "markdown",
      "source": [
        "Q9. What data structure does a shelf value resemble?\n",
        "\n",
        "A shelf value resembles a dictionary value; it has keys and values, along with keys() and values() methods that work similarly to the dictionary methods of the same names."
      ],
      "metadata": {
        "id": "k1Kayw2_ExL7"
      }
    }
  ]
}