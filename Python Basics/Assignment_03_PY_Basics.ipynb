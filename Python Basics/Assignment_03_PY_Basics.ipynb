{
  "nbformat": 4,
  "nbformat_minor": 0,
  "metadata": {
    "colab": {
      "provenance": []
    },
    "kernelspec": {
      "name": "python3",
      "display_name": "Python 3"
    },
    "language_info": {
      "name": "python"
    }
  },
  "cells": [
    {
      "cell_type": "markdown",
      "source": [
        "Q1. Why are functions advantageous to have in your programs?\n",
        "\n",
        "Functions increases productivity, functions reduces code duplication.\n",
        "\n",
        "-----------------------------------------------------------------------------"
      ],
      "metadata": {
        "id": "5v_Rjj9kxZ33"
      }
    },
    {
      "cell_type": "markdown",
      "source": [
        "Q2. When does the code in a function run: when it&#39;s specified or when it&#39;s called?\n",
        "\n",
        "Function runs when it is called.\n",
        "\n",
        "-----------------------------------------------------------------------------"
      ],
      "metadata": {
        "id": "LT4tPOeWxueH"
      }
    },
    {
      "cell_type": "markdown",
      "source": [
        "Q3. What statement creates a function?\n",
        "\n",
        "def statement creates funtion.\n",
        "\n",
        "-----------------------------------------------------------------------------"
      ],
      "metadata": {
        "id": "MXpuDRqxx5Bo"
      }
    },
    {
      "cell_type": "markdown",
      "source": [
        "Q4. What is the difference between a function and a function call?\n",
        "\n",
        "Funtion consists of def statement and code is written in it.<br>\n",
        "Function Call is the process when the code inside the def statement i.e. Function is executed.\n",
        "\n",
        "------------------------------------------------------------------------------"
      ],
      "metadata": {
        "id": "ioBU7HQ0zzCx"
      }
    },
    {
      "cell_type": "markdown",
      "source": [
        "Q5. How many global scopes are there in a Python program? How many local scopes?\n",
        "\n",
        "There's only one global Python scope per program execution. This scope remains in existence until the program terminates , and a local scope is created whenever a function is called.\n",
        "\n",
        "------------------------------------------------------------------------------"
      ],
      "metadata": {
        "id": "kPq8VuDC0Wxi"
      }
    },
    {
      "cell_type": "markdown",
      "source": [
        "Q6. What happens to variables in a local scope when the function call returns?\n",
        "\n",
        "When a function returns, the local scope is destroyed.\n",
        "\n",
        "------------------------------------------------------------------------------"
      ],
      "metadata": {
        "id": "Hlwwkeqv1uOT"
      }
    },
    {
      "cell_type": "markdown",
      "source": [
        "Q7. What is the concept of a return value? Is it possible to have a return value in an expression?\n",
        "\n",
        "A return value is the value that a function call evaluates to. Like any value, a return value can be used as part of an expression.\n",
        "\n",
        "------------------------------------------------------------------------------"
      ],
      "metadata": {
        "id": "sBNvLtqy14Fk"
      }
    },
    {
      "cell_type": "markdown",
      "source": [
        "Q8. If a function does not have a return statement, what is the return value of a call to that function?\n",
        "\n",
        "If the funtion does not have a return statement it will not return anything.\n",
        "\n",
        "------------------------------------------------------------------------------"
      ],
      "metadata": {
        "id": "oH4NH-RE2EqJ"
      }
    },
    {
      "cell_type": "markdown",
      "source": [
        "Q9. How do you make a function variable refer to the global variable?\n",
        "\n",
        "To make function variable as a global variable you can use the global keyword to declare which variables are global.\n",
        "\n",
        "------------------------------------------------------------------------------"
      ],
      "metadata": {
        "id": "toXeXfcv2O0j"
      }
    },
    {
      "cell_type": "markdown",
      "source": [
        "Q10. What is the data type of None?\n",
        "\n",
        "NoneType\n",
        "\n",
        "------------------------------------------------------------------------------"
      ],
      "metadata": {
        "id": "UOcpo4cv2VrT"
      }
    },
    {
      "cell_type": "markdown",
      "source": [
        "Q11. What does the sentence import areallyourpetsnamederic do?\n",
        "\n",
        "It will try to import module named areallyourpetsnamederic (There is no such module exist areallyourpetsnamederic).\n",
        "\n",
        "------------------------------------------------------------------------------"
      ],
      "metadata": {
        "id": "polfhC8r2bFQ"
      }
    },
    {
      "cell_type": "markdown",
      "source": [
        "Q12. If you had a bacon() feature in a spam module, what would you call it after importing spam?\n",
        "\n",
        "import spam\n",
        "spam.bacon()\n",
        "\n",
        "------------------------------------------------------------------------------"
      ],
      "metadata": {
        "id": "UBfh89cY212p"
      }
    },
    {
      "cell_type": "markdown",
      "source": [
        "Q13. What can you do to save a programme from crashing if it encounters an error?\n",
        "\n",
        "We can use try except clause to save a program from crashing.\n",
        "\n",
        "------------------------------------------------------------------------------"
      ],
      "metadata": {
        "id": "GnienErP3E6B"
      }
    },
    {
      "cell_type": "markdown",
      "source": [
        "Q14. What is the purpose of the try clause? What is the purpose of the except clause?\n",
        "\n",
        "Try and Except clause is used to handle the errors within our code . The try block is used to check some code for errors i.e the code inside the try block will execute when there is no error in the program. Whereas the code inside the except block will execute whenever the program encounters some error in the try block."
      ],
      "metadata": {
        "id": "4NFWn49n3R-L"
      }
    }
  ]
}