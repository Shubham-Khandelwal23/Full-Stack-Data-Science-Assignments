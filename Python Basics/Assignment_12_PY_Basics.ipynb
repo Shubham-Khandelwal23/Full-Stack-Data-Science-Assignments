{
  "nbformat": 4,
  "nbformat_minor": 0,
  "metadata": {
    "colab": {
      "provenance": []
    },
    "kernelspec": {
      "name": "python3",
      "display_name": "Python 3"
    },
    "language_info": {
      "name": "python"
    }
  },
  "cells": [
    {
      "cell_type": "markdown",
      "source": [
        "Q1. In what modes should the PdfFileReader() and PdfFileWriter() File objects will be opened?\n",
        "\n",
        "For PdfFileReader() file objects should be opened in rb -> read binary mode, Whereas for PdfFileWriter() file objects should be opened in wb -> write binary mode.\n",
        "\n",
        "-------------------------------------------------------------------------------"
      ],
      "metadata": {
        "id": "fGEmrWFO28m5"
      }
    },
    {
      "cell_type": "markdown",
      "source": [
        "Q2. From a PdfFileReader object, how do you get a Page object for page 5?\n",
        "\n",
        "PdfFileReader class provides a method called getPage(page_no) to get a page object."
      ],
      "metadata": {
        "id": "1SJZSEWa3AnR"
      }
    },
    {
      "cell_type": "markdown",
      "source": [
        "Q3. What PdfFileReader variable stores the number of pages in the PDF document?\n",
        "\n",
        "getNumPages() method of PdfFileReader class stores the no pages in a PDF document\n",
        "\n",
        "-------------------------------------------------------------------------------"
      ],
      "metadata": {
        "id": "Vz8EAs7c3A-v"
      }
    },
    {
      "cell_type": "markdown",
      "source": [
        "Q4. If a PdfFileReader object’s PDF is encrypted with the password swordfish, what must you do\n",
        "before you can obtain Page objects from it?\n",
        "\n",
        "If a PdfFileReader object’s PDF is encrypted with the password swordfish and you're not aware of it. first read the Pdf using the PdfFileReader Class. PdfFileReader class provides a attribute called isEncrypted to check whether a pdf is encrypted or not. the method returns true if a pdf is encrypted and vice versa.\n",
        "if pdf is encrypted use the decrypt() method provided by PdfFileReader class first then try to read the contents/pages of the pdf, else PyPDF2 will raise the following error PyPDF2.utils.PdfReadError: file has not been decrypted\n",
        "\n",
        "-------------------------------------------------------------------------------"
      ],
      "metadata": {
        "id": "gd44u9ru3Bf9"
      }
    },
    {
      "cell_type": "markdown",
      "source": [
        "Q5. What methods do you use to rotate a page?\n",
        "\n",
        "PyPDF2 Package provides 2 methods to rotate a page:\n",
        "\n",
        "rotateClockWise() -> For Clockwise rotation\n",
        "rotateCounterClockWise() -> For Counter Clockwise rotation\n",
        "The PyPDF2 package only allows you to rotate a page in increments of 90 degrees. You will receive an AssertionError otherwise.\n",
        "\n",
        "--------------------------------------------------------------------------------"
      ],
      "metadata": {
        "id": "V0Qj4DEa3IBX"
      }
    },
    {
      "cell_type": "markdown",
      "source": [
        "Q6. What is the difference between a Run object and a Paragraph object?\n",
        "\n",
        "The structure of a document is represented by three different data types in python-Docx. At the highest level, a Document object represents the entire document. The Document object contains a list of Paragraph objects for the paragraphs in the document. (A new paragraph begins whenever the user presses ENTER or RETURN while typing in a Word document.) Each of these Paragraph objects contains a list of one or more Run objects.\n",
        "\n",
        "The text in a Word document is more than just a string. It has font, size, color, and other styling information associated with it. A style in Word is a collection of these attributes. A Run object is a contiguous run of text with the same style. A new Run object is needed whenever the text style changes.\n",
        "\n",
        "--------------------------------------------------------------------------------"
      ],
      "metadata": {
        "id": "kO8q2YoO500w"
      }
    },
    {
      "cell_type": "markdown",
      "source": [
        "Q7. How do you obtain a list of Paragraph objects for a Document object that’s stored in a variable\n",
        "named doc?\n",
        "\n",
        "DONT KNOW THIS ANSWER.\n",
        "\n",
        "---------------------------------------------------------------------------"
      ],
      "metadata": {
        "id": "mKFAnefX53Zm"
      }
    },
    {
      "cell_type": "markdown",
      "source": [
        "Q8. What type of object has bold, underline, italic, strike, and outline variables?\n",
        "\n",
        "Run object has bold, underline, italic, strike, and outline variables. The text in a Word document is more than just a string. It has font, size, color, and other styling information associated with it.\n",
        "\n",
        "A style in Word is a collection of these attributes. A Run object is a contiguous run of text with the same style. A new Run object is needed whenever the text style changes.\n",
        "\n",
        "-------------------------------------------------------------------------------"
      ],
      "metadata": {
        "id": "KM95A5ZY6GAh"
      }
    },
    {
      "cell_type": "markdown",
      "source": [
        "Q9. What is the difference between False, True, and None for the bold variable?\n",
        "\n",
        "bold = True  # Style Set to Bold\n",
        "bold = False # Style Not Set to Bold\n",
        "bold = None # Style is Not Applicable"
      ],
      "metadata": {
        "id": "8a-TDUd26GSy"
      }
    },
    {
      "cell_type": "markdown",
      "source": [
        "Q10. How do you create a Document object for a new Word document?\n",
        "\n",
        "DONT KNOW THIS ANSWER.\n",
        "\n",
        "--------------------------------------------------------------------------------"
      ],
      "metadata": {
        "id": "5OywZMzx6GnB"
      }
    },
    {
      "cell_type": "markdown",
      "source": [
        "Q11. How do you add a paragraph with the text &#39;Hello, there!&#39; to a Document object stored in a\n",
        "variable named doc?\n",
        "\n",
        "DONT KNOW THIS ANSWER.\n",
        "\n",
        "------------------------------------------------------------------------------"
      ],
      "metadata": {
        "id": "mYzuTv_17hAN"
      }
    },
    {
      "cell_type": "markdown",
      "source": [
        "Q12. What integers represent the levels of headings available in Word documents?\n",
        "\n",
        "The levels for a heading in a word document can be specified by using the level attribute inside the add_heading method. There are a total of 5 levels statring for 0 t0 4. where level 0 makes a headline with the horizontal line below the text, whereas the heading level 1 is the main heading. Similarly, the other headings are sub-heading with their's font-sizes in decreasing order.\n",
        "\n",
        " ---------------------------------------------------------------------------"
      ],
      "metadata": {
        "id": "w9TJYq0k7j8a"
      }
    }
  ]
}