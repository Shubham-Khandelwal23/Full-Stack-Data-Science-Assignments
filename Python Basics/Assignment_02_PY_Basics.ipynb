{
  "nbformat": 4,
  "nbformat_minor": 0,
  "metadata": {
    "colab": {
      "provenance": []
    },
    "kernelspec": {
      "name": "python3",
      "display_name": "Python 3"
    },
    "language_info": {
      "name": "python"
    }
  },
  "cells": [
    {
      "cell_type": "markdown",
      "source": [
        "Q1.What are the two values of the Boolean data type? How do you write them?\n",
        "\n",
        "bool: TRUE, FALSE\n",
        "\n",
        "--------------------------------------------------------------------------"
      ],
      "metadata": {
        "id": "vEyRZDCObShT"
      }
    },
    {
      "cell_type": "markdown",
      "source": [
        "Q2. What are the three different types of Boolean operators?\n",
        "\n",
        "AND, OR, NOT\n",
        "\n",
        "-------------------------------------------------------------------------------"
      ],
      "metadata": {
        "id": "kGQP9Crabf9E"
      }
    },
    {
      "cell_type": "markdown",
      "source": [
        "Q3. Make a list of each Boolean operator's truth tables (i.e. every possible combination of Boolean values for the operator and what it evaluate ).\n",
        "\n",
        "True and True is True.<br>\n",
        "True and False is False.<br>\n",
        "False and True is False.<br>\n",
        "False and False is False.<br>\n",
        "True or True is True.<br>\n",
        "True or False is True.<br>\n",
        "False or True is True.<br>\n",
        "False or False is False.<br>\n",
        "not True is False.<br>\n",
        "not False is True.<br>\n",
        "\n",
        "True = 1<br> \n",
        "False = 0<br><br>\n",
        "Truth Table for AND<br>\n",
        "A B output<br>\n",
        "0 0 0<br>\n",
        "0 1 0<br>\n",
        "1 0 0<br>\n",
        "1 1 1<br>\n",
        "Truth Table for OR<br>\n",
        "A B output<br>\n",
        "0 0 0<br>\n",
        "0 1 1<br>\n",
        "1 0 1<br>\n",
        "1 1 1<br>\n",
        "Truth Table for NOT<br>\n",
        "A output<br>\n",
        "0 1<br>\n",
        "1 0\n",
        "\n",
        "------------------------------------------------------------------------------\n"
      ],
      "metadata": {
        "id": "hH4oLBRobxMj"
      }
    },
    {
      "cell_type": "markdown",
      "source": [
        "Q4. What are the values of the following expressions?\n",
        "\n",
        "(5 &gt; 4) and (3 == 5)\n",
        "not (5 &gt; 4)\n",
        "(5 &gt; 4) or (3 == 5)\n",
        "not ((5 &gt; 4) or (3 == 5))\n",
        "(True and True) and (True == False)\n",
        "(not False) or (not True)\n",
        "\n"
      ],
      "metadata": {
        "id": "dCF00dhle7L4"
      }
    },
    {
      "cell_type": "code",
      "source": [
        "print((5>4) and (3==5))\n",
        "print(not(5>4))\n",
        "print((5>4) or (3==5))\n",
        "print(not(5>4) or (3==5))\n",
        "print((True and True) and (True==False))\n",
        "print((not(False))or(not(True)))"
      ],
      "metadata": {
        "colab": {
          "base_uri": "https://localhost:8080/"
        },
        "id": "nwVI4Xn2gUSy",
        "outputId": "ffb16662-cc1e-47b5-d9e4-d3844fe60682"
      },
      "execution_count": 1,
      "outputs": [
        {
          "output_type": "stream",
          "name": "stdout",
          "text": [
            "False\n",
            "False\n",
            "True\n",
            "False\n",
            "False\n",
            "True\n"
          ]
        }
      ]
    },
    {
      "cell_type": "markdown",
      "source": [
        "Q5. What are the six comparison operators?\n",
        "\n",
        "==, !=, <, >, <=, and >=\n",
        "\n",
        "-------------------------------------------------------------------------------"
      ],
      "metadata": {
        "id": "4-Fr79ksgh2x"
      }
    },
    {
      "cell_type": "markdown",
      "source": [
        "Q6. How do you tell the difference between the equal to and assignment operators?Describe a\n",
        "condition and when you would use one.\n",
        "\n",
        "== is the equal to operator that compares two values, while = is the assignment operator that stores a value in a variable."
      ],
      "metadata": {
        "id": "9vg2zeq-gtNE"
      }
    },
    {
      "cell_type": "code",
      "source": [
        "#== Operator\n",
        "\n",
        "if(23==23):\n",
        "  print(\"True\")\n",
        "else:\n",
        "  print(\"False\")\n",
        "\n",
        "#= Operator\n",
        "\n",
        "c=1\n",
        "print(c)"
      ],
      "metadata": {
        "colab": {
          "base_uri": "https://localhost:8080/"
        },
        "id": "PPwiIY6BiDA-",
        "outputId": "fcfaa03b-b2ac-4ec2-eff9-639bbe1cc970"
      },
      "execution_count": 3,
      "outputs": [
        {
          "output_type": "stream",
          "name": "stdout",
          "text": [
            "True\n",
            "1\n"
          ]
        }
      ]
    },
    {
      "cell_type": "markdown",
      "source": [
        "Q7. Identify the three blocks in this code:\n",
        "spam = 0\n",
        "if spam == 10:\n",
        "print(&#39;eggs&#39;)\n",
        "if spam &gt; 5:\n",
        "print(&#39;bacon&#39;)\n",
        "else:\n",
        "print(&#39;ham&#39;)\n",
        "print(&#39;spam&#39;)\n",
        "print(&#39;spam&#39;)"
      ],
      "metadata": {
        "id": "Tj4pwMqOhzHf"
      }
    },
    {
      "cell_type": "code",
      "source": [
        "spam = 0\n",
        "if spam == 10:\n",
        "  print('eggs') #Block 1\n",
        "if spam > 5:\n",
        "  print('bacon') #Block 2\n",
        "else:\n",
        "  print('ham')\n",
        "  print('spam')\n",
        "  print('spam') #Block 3"
      ],
      "metadata": {
        "colab": {
          "base_uri": "https://localhost:8080/"
        },
        "id": "RPqiRAi-iyN0",
        "outputId": "c5c2a253-1771-41ce-ad40-17ce6af35c56"
      },
      "execution_count": 5,
      "outputs": [
        {
          "output_type": "stream",
          "name": "stdout",
          "text": [
            "ham\n",
            "spam\n",
            "spam\n"
          ]
        }
      ]
    },
    {
      "cell_type": "markdown",
      "source": [
        "Q8. Write code that prints Hello if 1 is stored in spam, prints Howdy if 2 is stored in spam, and prints\n",
        "Greetings! if anything else is stored in spam."
      ],
      "metadata": {
        "id": "e7WcCwE_j1nv"
      }
    },
    {
      "cell_type": "code",
      "source": [
        "spam = int(input(\"Input a no.\"))\n",
        "if spam == 1:\n",
        "    print(\"Hello\")\n",
        "elif spam == 2:\n",
        "    print(\"Howdy\")\n",
        "else:\n",
        "    print(\"Greetings!\")"
      ],
      "metadata": {
        "colab": {
          "base_uri": "https://localhost:8080/"
        },
        "id": "EdMUjYiGlDC3",
        "outputId": "4d246578-e54b-4497-b69b-71b37ca28394"
      },
      "execution_count": 8,
      "outputs": [
        {
          "output_type": "stream",
          "name": "stdout",
          "text": [
            "Input a no.3\n",
            "Greetings!\n"
          ]
        }
      ]
    },
    {
      "cell_type": "markdown",
      "source": [
        "Q9.If your programme is stuck in an endless loop, what keys you’ll press?\n",
        "\n",
        "CTRL+C\n",
        "\n",
        "----------------------------------------------------------------------------"
      ],
      "metadata": {
        "id": "nDWyAlNdlSw7"
      }
    },
    {
      "cell_type": "markdown",
      "source": [
        "Q10. How can you tell the difference between break and continue?\n",
        "\n",
        "The break statement will move the execution outside and just after a loop. The continue statement will move the execution to the start of the loop.\n",
        "\n",
        "-----------------------------------------------------------------------------"
      ],
      "metadata": {
        "id": "6Kmsnkatlf01"
      }
    },
    {
      "cell_type": "markdown",
      "source": [
        "Q11. In a for loop, what is the difference between range(10), range(0, 10), and range(0, 10, 1)?\n",
        "\n"
      ],
      "metadata": {
        "id": "E9fXkVYzmRuG"
      }
    },
    {
      "cell_type": "code",
      "source": [
        "for i in range(10):\n",
        "    print(i)\n",
        "print(\"----------\") \n",
        "for i in range(0,10):\n",
        "    print(i)\n",
        "print(\"----------\")\n",
        "for i in range(0,10,1):\n",
        "    print(i)"
      ],
      "metadata": {
        "colab": {
          "base_uri": "https://localhost:8080/"
        },
        "id": "fuau0KgnoEwk",
        "outputId": "0f70216a-40e5-4438-aa30-202f1fa02252"
      },
      "execution_count": 10,
      "outputs": [
        {
          "output_type": "stream",
          "name": "stdout",
          "text": [
            "0\n",
            "1\n",
            "2\n",
            "3\n",
            "4\n",
            "5\n",
            "6\n",
            "7\n",
            "8\n",
            "9\n",
            "----------\n",
            "0\n",
            "1\n",
            "2\n",
            "3\n",
            "4\n",
            "5\n",
            "6\n",
            "7\n",
            "8\n",
            "9\n",
            "----------\n",
            "0\n",
            "1\n",
            "2\n",
            "3\n",
            "4\n",
            "5\n",
            "6\n",
            "7\n",
            "8\n",
            "9\n"
          ]
        }
      ]
    },
    {
      "cell_type": "markdown",
      "source": [
        "Q12. Write a short program that prints the numbers 1 to 10 using a for loop. Then write an equivalent\n",
        "program that prints the numbers 1 to 10 using a while loop."
      ],
      "metadata": {
        "id": "dGZ8Lrx4o-Yl"
      }
    },
    {
      "cell_type": "code",
      "source": [
        "#For Loop\n",
        "for i in range(1,11):\n",
        "  print(i)\n",
        "print(\"---------\")\n",
        "#While Loop\n",
        "a=1\n",
        "while a <= 10:\n",
        "  print(a)\n",
        "  a+=1"
      ],
      "metadata": {
        "colab": {
          "base_uri": "https://localhost:8080/"
        },
        "id": "MmuE8gsQpATf",
        "outputId": "4a47c15b-8621-4029-b975-b2e6435d61d8"
      },
      "execution_count": 22,
      "outputs": [
        {
          "output_type": "stream",
          "name": "stdout",
          "text": [
            "1\n",
            "2\n",
            "3\n",
            "4\n",
            "5\n",
            "6\n",
            "7\n",
            "8\n",
            "9\n",
            "10\n",
            "---------\n",
            "1\n",
            "2\n",
            "3\n",
            "4\n",
            "5\n",
            "6\n",
            "7\n",
            "8\n",
            "9\n",
            "10\n"
          ]
        }
      ]
    },
    {
      "cell_type": "markdown",
      "source": [
        "Q13. If you had a function named bacon() inside a module named spam, how would you call it after\n",
        "importing spam?\n",
        "\n",
        "DONT KNOW THIS ANSWER."
      ],
      "metadata": {
        "id": "05ToVBDitwCn"
      }
    }
  ]
}