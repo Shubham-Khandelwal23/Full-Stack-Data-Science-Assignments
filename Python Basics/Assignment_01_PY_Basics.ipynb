{
  "nbformat": 4,
  "nbformat_minor": 0,
  "metadata": {
    "colab": {
      "provenance": [],
      "collapsed_sections": []
    },
    "kernelspec": {
      "name": "python3",
      "display_name": "Python 3"
    },
    "language_info": {
      "name": "python"
    }
  },
  "cells": [
    {
      "cell_type": "markdown",
      "source": [
        "Q1. In the below elements which of them are values or an expression? eg:- values can be integer or string and expressions will be mathematical operators.\n",
        "\n",
        "*: Mathematical Operator\n",
        "\n",
        "hello: String\n",
        "\n",
        "-87.8: Integer\n",
        "\n",
        "-: Mathematical Operator\n",
        "\n",
        "/: Mathematical Operator\n",
        "\n",
        "+: Mathematical Operator\n",
        "\n",
        "6: Integer\n",
        "\n",
        "----------------*----------------*----------------*----------------*"
      ],
      "metadata": {
        "id": "hpunE0w6BgWE"
      }
    },
    {
      "cell_type": "markdown",
      "source": [
        "Q2. What is the difference between string and variable?\n",
        "\n",
        "Variable are used to store data, and string is a type of data i.e. Alphabets.\n",
        "\n",
        "----------------*----------------*----------------*----------------*"
      ],
      "metadata": {
        "id": "zaN9eAobFx-V"
      }
    },
    {
      "cell_type": "markdown",
      "source": [
        "Q3. Describe three different data types.\n",
        "\n",
        "A. Numeric Data Types:\n",
        "Integer (Eg: 5, 10)\n",
        "Float (Eg: 20.3, 55.6)\n",
        "Complex (Eg: 1+2j)\n",
        "\n",
        "B. String Data Type:\n",
        "str: Shubham, iNeuron\n",
        "\n",
        "C. Boolean Data Type:\n",
        "bool: True, False\n",
        "\n",
        "----------------*----------------*----------------*----------------*"
      ],
      "metadata": {
        "id": "bcW_s3RmGo0J"
      }
    },
    {
      "cell_type": "markdown",
      "source": [
        "Q4. What is an expression made up of? What do all expressions do?\n",
        "\n",
        "An expression is a combination of values, variables, operators, and calls to functions. Expressions need to be evaluated. If you ask Python to print an expression, the interpreter evaluates the expression and displays the result."
      ],
      "metadata": {
        "id": "65CBnN_sIctg"
      }
    },
    {
      "cell_type": "markdown",
      "source": [
        "Q5. This assignment statements, like spam = 10. What is the difference between an expression and a statement?\n",
        "\n",
        "Statements represent an action or command e.g print statements, assignment statements. \n",
        "\n",
        "Expression is a combination of variables, operations and values that yields a result value.\n",
        "\n",
        "----------------*----------------*----------------*----------------*"
      ],
      "metadata": {
        "id": "h_54Qv55MLY_"
      }
    },
    {
      "cell_type": "markdown",
      "source": [
        "Q6. After running the following code, what does the variable bacon contain?\n",
        "bacon = 22\n",
        "bacon + 1"
      ],
      "metadata": {
        "id": "hFQSD-rtNZbc"
      }
    },
    {
      "cell_type": "code",
      "source": [
        "bacon=22\n",
        "bacon+1"
      ],
      "metadata": {
        "colab": {
          "base_uri": "https://localhost:8080/"
        },
        "id": "71pGxB3jNatl",
        "outputId": "c8056e46-2d3d-49fa-a8b2-6f5a63611df5"
      },
      "execution_count": 2,
      "outputs": [
        {
          "output_type": "execute_result",
          "data": {
            "text/plain": [
              "23"
            ]
          },
          "metadata": {},
          "execution_count": 2
        }
      ]
    },
    {
      "cell_type": "markdown",
      "source": [
        "Q7. What should the values of the following two terms be?\n",
        "'spam' + 'spamspam'\n",
        "'spam' * 3"
      ],
      "metadata": {
        "id": "sZCwhN9ANgGC"
      }
    },
    {
      "cell_type": "code",
      "source": [
        "'spam'+'spamspam'"
      ],
      "metadata": {
        "colab": {
          "base_uri": "https://localhost:8080/",
          "height": 35
        },
        "id": "XvU8Nr7KN181",
        "outputId": "2057b8ad-e154-4fff-fbfa-6609c28702eb"
      },
      "execution_count": 3,
      "outputs": [
        {
          "output_type": "execute_result",
          "data": {
            "text/plain": [
              "'spamspamspam'"
            ],
            "application/vnd.google.colaboratory.intrinsic+json": {
              "type": "string"
            }
          },
          "metadata": {},
          "execution_count": 3
        }
      ]
    },
    {
      "cell_type": "code",
      "source": [
        "'spam'*3"
      ],
      "metadata": {
        "colab": {
          "base_uri": "https://localhost:8080/",
          "height": 35
        },
        "id": "3V9SI64DOBrl",
        "outputId": "f3d9d6ac-6ca7-4db4-dd71-5b5dc140fb89"
      },
      "execution_count": 4,
      "outputs": [
        {
          "output_type": "execute_result",
          "data": {
            "text/plain": [
              "'spamspamspam'"
            ],
            "application/vnd.google.colaboratory.intrinsic+json": {
              "type": "string"
            }
          },
          "metadata": {},
          "execution_count": 4
        }
      ]
    },
    {
      "cell_type": "markdown",
      "source": [
        "Q8. Why is eggs a valid variable name while 100 is invalid?\n",
        "\n",
        "A variable name must start with letter or underscore like eggs, this can be a variable but 100 is a numeric value and variables cannot start with numbers it can contain number after alphabet like eggs100, it can be a variable.\n",
        "\n",
        "----------------*----------------*----------------*----------------*"
      ],
      "metadata": {
        "id": "abnbpVfkOGSL"
      }
    },
    {
      "cell_type": "markdown",
      "source": [
        "Q9. What three functions can be used to get the integer, floating-point number, or string version of a value?\n",
        "\n",
        "Integer: int<br>\n",
        "floating-point: float<br>\n",
        "String: str\n",
        "\n",
        "----------------*----------------*----------------*----------------*"
      ],
      "metadata": {
        "id": "qQpoAv1CPuqC"
      }
    },
    {
      "cell_type": "markdown",
      "source": [
        "Q10. Why does this expression cause an error? How can you fix it?\n",
        "'I have eaten' + 99 + 'burritos.'\n",
        "\n",
        "It causes TypeError because concatenation can work on string value and not on integer.\n",
        "\n",
        "Correct Code: 'I have eaten '+'burritos.'"
      ],
      "metadata": {
        "id": "WgBKZ1NhQT0Y"
      }
    },
    {
      "cell_type": "code",
      "source": [
        "'I have eaten '+'burritos.'"
      ],
      "metadata": {
        "colab": {
          "base_uri": "https://localhost:8080/",
          "height": 35
        },
        "id": "5Nbnsd3LQmZh",
        "outputId": "f218f48e-bea2-4907-e0a1-b19720d613b3"
      },
      "execution_count": 7,
      "outputs": [
        {
          "output_type": "execute_result",
          "data": {
            "text/plain": [
              "'I have eaten burritos.'"
            ],
            "application/vnd.google.colaboratory.intrinsic+json": {
              "type": "string"
            }
          },
          "metadata": {},
          "execution_count": 7
        }
      ]
    }
  ]
}