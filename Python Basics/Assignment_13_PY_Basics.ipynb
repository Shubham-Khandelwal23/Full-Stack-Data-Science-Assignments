{
  "nbformat": 4,
  "nbformat_minor": 0,
  "metadata": {
    "colab": {
      "provenance": []
    },
    "kernelspec": {
      "name": "python3",
      "display_name": "Python 3"
    },
    "language_info": {
      "name": "python"
    }
  },
  "cells": [
    {
      "cell_type": "markdown",
      "source": [
        "Q1. What advantages do Excel spreadsheets have over CSV spreadsheets?\n",
        "\n",
        "While Excel (XLS and XLSX) file formats are better for storing more complex data, CSV files are supported by nearly all data upload interfaces. If you are planning to move your data between platforms, export and import it from one interface to another, you might be better off with the CSV file format.\n",
        "\n",
        "-----------------------------------------------------------------------------"
      ],
      "metadata": {
        "id": "UyMSpYzBi7Ro"
      }
    },
    {
      "cell_type": "markdown",
      "source": [
        "Q2.What do you pass to csv.reader() and csv.writer() to create reader and writer objects?\n",
        "\n",
        "DONT KNOW THIS ANSWER.\n",
        "\n",
        "------------------------------------------------------------------------------"
      ],
      "metadata": {
        "id": "1FCrTvBVk3rp"
      }
    },
    {
      "cell_type": "markdown",
      "source": [
        "Q3. What modes do File objects for reader and writer objects need to be opened in?\n",
        "\n",
        " File objects need to be opened in read-binary ('rb') for Reader objects and write-binary ('wb') for Writer objects\n",
        "\n",
        "------------------------------------------------------------------------------"
      ],
      "metadata": {
        "id": "2bUE6grTk9Mi"
      }
    },
    {
      "cell_type": "markdown",
      "source": [
        "Q4. What method takes a list argument and writes it to a CSV file?\n",
        "\n",
        "DONT KNOWW THIS ANSWER.\n",
        "\n",
        "------------------------------------------------------------------------------"
      ],
      "metadata": {
        "id": "pyX4CeVOlO14"
      }
    },
    {
      "cell_type": "markdown",
      "source": [
        "Q5. What do the keyword arguments delimiter and line terminator do?\n",
        "\n",
        "The delimiter argument changes the string used to separate cells in a row.<br>\n",
        "The line terminator argument changes the string used to separate rows.\n",
        "\n",
        "-----------------------------------------------------------------------------"
      ],
      "metadata": {
        "id": "EjiwXnfLlnCa"
      }
    },
    {
      "cell_type": "markdown",
      "source": [
        "Q6. What function takes a string of JSON data and returns a Python data structure?\n",
        "\n",
        "json.loads()\n",
        "\n",
        "-------------------------------------------------------------------------------"
      ],
      "metadata": {
        "id": "l7RYsep2l4oi"
      }
    },
    {
      "cell_type": "markdown",
      "source": [
        "Q7. What function takes a Python data structure and returns a string of JSON data?\n",
        "\n",
        "json.dumps()\n",
        "\n",
        "------------------------------------------------------------------------------"
      ],
      "metadata": {
        "id": "fZzWYN1kmUpm"
      }
    }
  ]
}