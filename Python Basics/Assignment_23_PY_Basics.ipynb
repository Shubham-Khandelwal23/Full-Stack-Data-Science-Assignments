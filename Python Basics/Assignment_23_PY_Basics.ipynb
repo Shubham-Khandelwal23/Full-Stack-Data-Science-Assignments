{
  "nbformat": 4,
  "nbformat_minor": 0,
  "metadata": {
    "colab": {
      "provenance": []
    },
    "kernelspec": {
      "name": "python3",
      "display_name": "Python 3"
    },
    "language_info": {
      "name": "python"
    }
  },
  "cells": [
    {
      "cell_type": "markdown",
      "source": [
        "Q1. What is the result of the code, and why?\n",
        "&gt;&gt;&gt; def func(a, b=6, c=8):\n",
        "print(a, b, c)\n",
        "&gt;&gt;&gt; func(1, 2)\n",
        "\n",
        "Ans: The result of the above code is 1 2 8. its because the function uses the default value of c ie 8 which is provided at the time of declaration\n"
      ],
      "metadata": {
        "id": "suKcdCwW56x5"
      }
    },
    {
      "cell_type": "code",
      "execution_count": 1,
      "metadata": {
        "id": "slhq7dFMRygn",
        "colab": {
          "base_uri": "https://localhost:8080/"
        },
        "outputId": "79e4170f-667d-4736-87c0-6a2413e30099"
      },
      "outputs": [
        {
          "output_type": "stream",
          "name": "stdout",
          "text": [
            "1 2 8\n"
          ]
        }
      ],
      "source": [
        "def func(a,b=6,c=8):\n",
        "    print(a,b,c)\n",
        "func(1,2)"
      ]
    },
    {
      "cell_type": "markdown",
      "source": [
        "Q2. What is the result of this code, and why?\n",
        "&gt;&gt;&gt; def func(a, b, c=5):\n",
        "print(a, b, c)\n",
        "&gt;&gt;&gt; func(1, c=3, b=2)\n",
        "\n",
        "The result of the above code is 1 2 3. it is because the function will use default values only when a value for a argument is not provided and if argument name is mentioned while doing a function call, the order of arguments is also ignored by the python interpreter\n",
        "\n"
      ],
      "metadata": {
        "id": "TlzRqDT46Gl4"
      }
    },
    {
      "cell_type": "code",
      "source": [
        "def func(a,b,c=5):\n",
        "    print(a,b,c)\n",
        "func(1,c=3,b=2)"
      ],
      "metadata": {
        "colab": {
          "base_uri": "https://localhost:8080/"
        },
        "id": "NGEzF_iy6OJT",
        "outputId": "9db7e665-bc79-4f19-a1ba-51dd493965f1"
      },
      "execution_count": 2,
      "outputs": [
        {
          "output_type": "stream",
          "name": "stdout",
          "text": [
            "1 2 3\n"
          ]
        }
      ]
    },
    {
      "cell_type": "markdown",
      "source": [
        "Q3. How about this code: what is its result, and why?\n",
        "&gt;&gt;&gt; def func(a, *pargs):\n",
        "print(a, pargs)\n",
        "&gt;&gt;&gt; func(1, 2, 3)\n",
        "\n",
        "The result of the code is 1 (2,3). *pargs stands for variable length arguments. this format is used when we are not sure about the no of arguments to be passed to a function. all the values under this argument will be stored in a tuple."
      ],
      "metadata": {
        "id": "Jatipm3Y6U_j"
      }
    },
    {
      "cell_type": "code",
      "source": [
        "def func(a, *pargs):\n",
        "    print(a,pargs)\n",
        "func(1,2,3)"
      ],
      "metadata": {
        "colab": {
          "base_uri": "https://localhost:8080/"
        },
        "id": "d43GIoH-6bBE",
        "outputId": "4d64c139-9816-456b-f940-d011c7d75a41"
      },
      "execution_count": 3,
      "outputs": [
        {
          "output_type": "stream",
          "name": "stdout",
          "text": [
            "1 (2, 3)\n"
          ]
        }
      ]
    },
    {
      "cell_type": "markdown",
      "source": [
        "Q4. What does this code print, and why?\n",
        "&gt;&gt;&gt; def func(a, **kargs):\n",
        "print(a, kargs)\n",
        "&gt;&gt;&gt; func(a=1, c=3, b=2)\n",
        "\n",
        "The result of the above code is 1 {'c': 3, 'b': 2}. **args stands for variable length keyword arguments. this format is used when we want pass key value pairs as input to a function. All these key value pairs will be stored in a dictionary\n"
      ],
      "metadata": {
        "id": "ZzR89URO6dVk"
      }
    },
    {
      "cell_type": "code",
      "source": [
        "def func(a,**kargs):\n",
        "    print(a,kargs)\n",
        "func(a=1,c=3,b=2)"
      ],
      "metadata": {
        "colab": {
          "base_uri": "https://localhost:8080/"
        },
        "id": "YajYZl2m6kjN",
        "outputId": "c5d27dad-45f4-4aa9-efd9-6f442db9b549"
      },
      "execution_count": 4,
      "outputs": [
        {
          "output_type": "stream",
          "name": "stdout",
          "text": [
            "1 {'c': 3, 'b': 2}\n"
          ]
        }
      ]
    },
    {
      "cell_type": "markdown",
      "source": [
        "Q5. What gets printed by this, and explain?\n",
        "&gt;&gt;&gt; def func(a, b, c=8, d=5): print(a, b, c, d)\n",
        "&gt;&gt;&gt; func(1, *(5, 6))\n",
        "\n",
        "The output of the above is 1 5 6 5. This reason for this function not throwing an error is because, this function expects 4 arguments. the value for a is provided explicitly whereas for arguments b and c, the function will expand the *(5,6) and consider the value of b as 5 and value of c as 6. since the default value of d is provided in function declaration d value will be 5. However it is recommended to use the feature of positional arguments at the end."
      ],
      "metadata": {
        "id": "L1jJ9j_H6dq_"
      }
    },
    {
      "cell_type": "code",
      "source": [
        "def func(a,b,c=8,d=5):\n",
        "    print(a,b,c,d)\n",
        "func(1,*(5,6))"
      ],
      "metadata": {
        "colab": {
          "base_uri": "https://localhost:8080/"
        },
        "id": "V_BF1yw16yy_",
        "outputId": "77df1cf9-c8ca-4eeb-b643-f7a85ac8b052"
      },
      "execution_count": 5,
      "outputs": [
        {
          "output_type": "stream",
          "name": "stdout",
          "text": [
            "1 5 6 5\n"
          ]
        }
      ]
    },
    {
      "cell_type": "markdown",
      "source": [
        "6. what is the result of this, and explain?\n",
        "&gt;&gt;&gt; def func(a, b, c): a = 2; b[0] = &#39;x&#39;; c[&#39;a&#39;] = &#39;y&#39;\n",
        "&gt;&gt;&gt; l=1; m=[1]; n={&#39;a&#39;:0}\n",
        "&gt;&gt;&gt; func(l, m, n)\n",
        "&gt;&gt;&gt; l, m, n\n",
        "\n",
        "The output of above code is 1, ['x'], {'a': 'y'}.\n",
        "\n",
        "Eventhough Python gives importance to indentation. its provides a facility to declare an entire function in one single line. where statements in a function body are sepereated by ;\n",
        "When l,m,n are provided as inputs to the function. its modifies the values of l,m,n and sets the value of l=2 ,m=['x'] and n={'a':'y'}"
      ],
      "metadata": {
        "id": "i1c5KgDC6d80"
      }
    },
    {
      "cell_type": "code",
      "source": [
        "def func(a, b, c): a = 2; b[0] = 'x'; c['a'] = 'y'\n",
        "l=1; m=[1]; n={'a':0}\n",
        "func(l, m, n)\n",
        "l,m,n"
      ],
      "metadata": {
        "colab": {
          "base_uri": "https://localhost:8080/"
        },
        "id": "ZkopZ9t5652f",
        "outputId": "ec08ee90-61d8-4c83-db62-5dfb1e064b1f"
      },
      "execution_count": 6,
      "outputs": [
        {
          "output_type": "execute_result",
          "data": {
            "text/plain": [
              "(1, ['x'], {'a': 'y'})"
            ]
          },
          "metadata": {},
          "execution_count": 6
        }
      ]
    }
  ]
}