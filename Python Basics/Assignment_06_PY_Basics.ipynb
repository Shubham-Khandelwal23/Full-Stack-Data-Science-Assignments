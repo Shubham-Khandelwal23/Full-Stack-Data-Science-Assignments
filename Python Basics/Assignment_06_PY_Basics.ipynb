{
  "nbformat": 4,
  "nbformat_minor": 0,
  "metadata": {
    "colab": {
      "provenance": []
    },
    "kernelspec": {
      "name": "python3",
      "display_name": "Python 3"
    },
    "language_info": {
      "name": "python"
    }
  },
  "cells": [
    {
      "cell_type": "markdown",
      "source": [
        "Q1. What are escape characters, and how do you use them?\n",
        "\n",
        "The backslash \"\" is a special character, also called the \"escape\" character. It is used in representing certain whitespace characters: \"\\t\" is a tab, \"\\n\" is a newline, and \"\\r\" is a carriage return."
      ],
      "metadata": {
        "id": "p-Y8b1CbgX6O"
      }
    },
    {
      "cell_type": "markdown",
      "source": [
        "Q2. What do the escape characters n and t stand for?\n",
        "\n",
        "\\n: New Line<br>\n",
        "\\t: New Tab."
      ],
      "metadata": {
        "id": "li81jjZLg0W3"
      }
    },
    {
      "cell_type": "markdown",
      "source": [
        "Q3. What is the way to include backslash characters in a string?"
      ],
      "metadata": {
        "id": "Ie6TnmmFiDtj"
      }
    },
    {
      "cell_type": "code",
      "source": [
        "print('This is Backslash \\\\')"
      ],
      "metadata": {
        "colab": {
          "base_uri": "https://localhost:8080/"
        },
        "id": "m89bB4UkiNf7",
        "outputId": "ced4947c-0326-4df2-bd2a-0da9556595a1"
      },
      "execution_count": 2,
      "outputs": [
        {
          "output_type": "stream",
          "name": "stdout",
          "text": [
            "This is Backslash \\\n"
          ]
        }
      ]
    },
    {
      "cell_type": "markdown",
      "source": [
        "Q4. The string &quot;Howl&#39;s Moving Castle&quot; is a correct value. Why isn&#39;t the single quote character in the\n",
        "word Howl&#39;s not escaped a problem?"
      ],
      "metadata": {
        "id": "eSSLzDBlimxe"
      }
    },
    {
      "cell_type": "code",
      "source": [
        "print(\"HowI's Moving Castle\")"
      ],
      "metadata": {
        "colab": {
          "base_uri": "https://localhost:8080/"
        },
        "id": "mu8MvGC4jF4W",
        "outputId": "98f3464d-da0b-42cf-c167-47edc22ea7e4"
      },
      "execution_count": 3,
      "outputs": [
        {
          "output_type": "stream",
          "name": "stdout",
          "text": [
            "HowI's Moving Castle\n"
          ]
        }
      ]
    },
    {
      "cell_type": "markdown",
      "source": [
        "Q5. How do you write a string of newlines if you don&#39;t want to use the n character?\n",
        "\n",
        "By Using print Statement in the other line."
      ],
      "metadata": {
        "id": "mudto1sljILF"
      }
    },
    {
      "cell_type": "markdown",
      "source": [
        "6. What are the values of the given expressions?<br>\n",
        "&#39;Hello, world!&#39;[1]<br>\n",
        "&#39;Hello, world!&#39;[0:5]<br>\n",
        "&#39;Hello, world!&#39;[:5]<br>\n",
        "&#39;Hello, world!&#39;[3:]\n",
        "\n"
      ],
      "metadata": {
        "id": "SR-8XLE_kRmz"
      }
    },
    {
      "cell_type": "code",
      "source": [
        "'Hello, world!'[1]"
      ],
      "metadata": {
        "colab": {
          "base_uri": "https://localhost:8080/",
          "height": 35
        },
        "id": "4127tlrgkjCk",
        "outputId": "4ecfbb61-9961-4718-d0bb-b1e3e58d7db8"
      },
      "execution_count": 4,
      "outputs": [
        {
          "output_type": "execute_result",
          "data": {
            "text/plain": [
              "'e'"
            ],
            "application/vnd.google.colaboratory.intrinsic+json": {
              "type": "string"
            }
          },
          "metadata": {},
          "execution_count": 4
        }
      ]
    },
    {
      "cell_type": "code",
      "source": [
        "'Hello, world!'[0:5]"
      ],
      "metadata": {
        "colab": {
          "base_uri": "https://localhost:8080/",
          "height": 35
        },
        "id": "JBAGVzfVkr2A",
        "outputId": "2271f428-26c5-4006-a0c7-10db9dacffc7"
      },
      "execution_count": 5,
      "outputs": [
        {
          "output_type": "execute_result",
          "data": {
            "text/plain": [
              "'Hello'"
            ],
            "application/vnd.google.colaboratory.intrinsic+json": {
              "type": "string"
            }
          },
          "metadata": {},
          "execution_count": 5
        }
      ]
    },
    {
      "cell_type": "code",
      "source": [
        "'Hello, world!'[:5]"
      ],
      "metadata": {
        "colab": {
          "base_uri": "https://localhost:8080/",
          "height": 35
        },
        "id": "Rs4K8VoBksjD",
        "outputId": "1d6a027c-41da-4438-b253-e96958599978"
      },
      "execution_count": 6,
      "outputs": [
        {
          "output_type": "execute_result",
          "data": {
            "text/plain": [
              "'Hello'"
            ],
            "application/vnd.google.colaboratory.intrinsic+json": {
              "type": "string"
            }
          },
          "metadata": {},
          "execution_count": 6
        }
      ]
    },
    {
      "cell_type": "code",
      "source": [
        "'Hello, world!'[3:]"
      ],
      "metadata": {
        "colab": {
          "base_uri": "https://localhost:8080/",
          "height": 35
        },
        "id": "hcTr8HvxkvdX",
        "outputId": "579b38e1-d0ac-495b-bc3f-bc4cbe490699"
      },
      "execution_count": 7,
      "outputs": [
        {
          "output_type": "execute_result",
          "data": {
            "text/plain": [
              "'lo, world!'"
            ],
            "application/vnd.google.colaboratory.intrinsic+json": {
              "type": "string"
            }
          },
          "metadata": {},
          "execution_count": 7
        }
      ]
    },
    {
      "cell_type": "markdown",
      "source": [
        "Q7. What are the values of the following expressions?<br>\n",
        "&#39;Hello&#39;.upper()<br>\n",
        "&#39;Hello&#39;.upper().isupper()<br>\n",
        "&#39;Hello&#39;.upper().lower()"
      ],
      "metadata": {
        "id": "Ah7mNTdwk2Hi"
      }
    },
    {
      "cell_type": "code",
      "source": [
        "'Hello'.upper()"
      ],
      "metadata": {
        "colab": {
          "base_uri": "https://localhost:8080/",
          "height": 35
        },
        "id": "ahs69TbQk_df",
        "outputId": "45524dd3-acf8-437c-8ffb-3753ac4c076d"
      },
      "execution_count": 8,
      "outputs": [
        {
          "output_type": "execute_result",
          "data": {
            "text/plain": [
              "'HELLO'"
            ],
            "application/vnd.google.colaboratory.intrinsic+json": {
              "type": "string"
            }
          },
          "metadata": {},
          "execution_count": 8
        }
      ]
    },
    {
      "cell_type": "code",
      "source": [
        "'Hello'.upper().isupper()"
      ],
      "metadata": {
        "colab": {
          "base_uri": "https://localhost:8080/"
        },
        "id": "2NXlLQGPk_2D",
        "outputId": "5723953e-9d45-4735-a16b-8a86e26fe919"
      },
      "execution_count": 9,
      "outputs": [
        {
          "output_type": "execute_result",
          "data": {
            "text/plain": [
              "True"
            ]
          },
          "metadata": {},
          "execution_count": 9
        }
      ]
    },
    {
      "cell_type": "code",
      "source": [
        "'Hello'.upper().lower()"
      ],
      "metadata": {
        "colab": {
          "base_uri": "https://localhost:8080/",
          "height": 35
        },
        "id": "bcWKNHnrlAOQ",
        "outputId": "98890379-902e-49da-bfff-aa0e8e72c8d3"
      },
      "execution_count": 10,
      "outputs": [
        {
          "output_type": "execute_result",
          "data": {
            "text/plain": [
              "'hello'"
            ],
            "application/vnd.google.colaboratory.intrinsic+json": {
              "type": "string"
            }
          },
          "metadata": {},
          "execution_count": 10
        }
      ]
    },
    {
      "cell_type": "markdown",
      "source": [
        "Q8. What are the values of the following expressions?\n",
        "&#39;Remember, remember, the fifth of July.&#39;.split()\n",
        "&#39;-&#39;.join(&#39;There can only one.&#39;.split())\n",
        "\n",
        "DONT KNOW THIS ANSWER."
      ],
      "metadata": {
        "id": "2SvHBqjClLNf"
      }
    },
    {
      "cell_type": "markdown",
      "source": [
        "Q9. What are the methods for right-justifying, left-justifying, and centering a string?"
      ],
      "metadata": {
        "id": "T-nupg1RmTXR"
      }
    },
    {
      "cell_type": "code",
      "source": [
        "# left justified\n",
        "str =\"Shubham\"\n",
        "str.ljust(40,\"-\")"
      ],
      "metadata": {
        "colab": {
          "base_uri": "https://localhost:8080/",
          "height": 35
        },
        "id": "HgpccKSemc5L",
        "outputId": "948ad8bf-67f9-4999-c930-9a347310d6fa"
      },
      "execution_count": 16,
      "outputs": [
        {
          "output_type": "execute_result",
          "data": {
            "text/plain": [
              "'Shubham---------------------------------'"
            ],
            "application/vnd.google.colaboratory.intrinsic+json": {
              "type": "string"
            }
          },
          "metadata": {},
          "execution_count": 16
        }
      ]
    },
    {
      "cell_type": "code",
      "source": [
        "# right justified\n",
        "str =\"Shubham\"\n",
        "str.rjust(40,'*')"
      ],
      "metadata": {
        "colab": {
          "base_uri": "https://localhost:8080/",
          "height": 35
        },
        "id": "Xc1l1Pfume1U",
        "outputId": "9aded4ff-2281-4087-97be-8a0c3bf0240d"
      },
      "execution_count": 14,
      "outputs": [
        {
          "output_type": "execute_result",
          "data": {
            "text/plain": [
              "'*********************************Shubham'"
            ],
            "application/vnd.google.colaboratory.intrinsic+json": {
              "type": "string"
            }
          },
          "metadata": {},
          "execution_count": 14
        }
      ]
    },
    {
      "cell_type": "code",
      "source": [
        "# center justified\n",
        "str =\"Shubham\"\n",
        "str.center(40,'*')"
      ],
      "metadata": {
        "colab": {
          "base_uri": "https://localhost:8080/",
          "height": 35
        },
        "id": "fNWxfe3AmgqS",
        "outputId": "2a6fe264-0582-44dd-d762-c7f479b4a9a0"
      },
      "execution_count": 15,
      "outputs": [
        {
          "output_type": "execute_result",
          "data": {
            "text/plain": [
              "'****************Shubham*****************'"
            ],
            "application/vnd.google.colaboratory.intrinsic+json": {
              "type": "string"
            }
          },
          "metadata": {},
          "execution_count": 15
        }
      ]
    },
    {
      "cell_type": "markdown",
      "source": [
        "Q10. What is the best way to remove whitespace characters from the start or end?"
      ],
      "metadata": {
        "id": "dguslasMmu4H"
      }
    },
    {
      "cell_type": "code",
      "source": [
        "str =\"  Shubham  \"\n",
        "str.lstrip()"
      ],
      "metadata": {
        "colab": {
          "base_uri": "https://localhost:8080/",
          "height": 35
        },
        "id": "7ONkLfeQnSmt",
        "outputId": "56b60211-37b6-4d1b-f5ba-e46c60f4975e"
      },
      "execution_count": 20,
      "outputs": [
        {
          "output_type": "execute_result",
          "data": {
            "text/plain": [
              "'Shubham  '"
            ],
            "application/vnd.google.colaboratory.intrinsic+json": {
              "type": "string"
            }
          },
          "metadata": {},
          "execution_count": 20
        }
      ]
    },
    {
      "cell_type": "code",
      "source": [
        "str =\"  Shubham  \"\n",
        "str.rstrip()"
      ],
      "metadata": {
        "colab": {
          "base_uri": "https://localhost:8080/",
          "height": 35
        },
        "id": "ZCwNAi3FnTCX",
        "outputId": "0d2e918c-dbe8-4e5c-e451-188e2282ae37"
      },
      "execution_count": 19,
      "outputs": [
        {
          "output_type": "execute_result",
          "data": {
            "text/plain": [
              "'  Shubham'"
            ],
            "application/vnd.google.colaboratory.intrinsic+json": {
              "type": "string"
            }
          },
          "metadata": {},
          "execution_count": 19
        }
      ]
    }
  ]
}